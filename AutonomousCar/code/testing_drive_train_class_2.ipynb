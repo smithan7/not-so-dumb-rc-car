{
 "cells": [
  {
   "cell_type": "code",
   "execution_count": 2,
   "metadata": {},
   "outputs": [],
   "source": [
    "import numpy as np\n",
    "import pandas as pd\n",
    "import matplotlib.pyplot as plt\n",
    "import math"
   ]
  },
  {
   "cell_type": "code",
   "execution_count": 50,
   "metadata": {},
   "outputs": [
    {
     "name": "stdout",
     "output_type": "stream",
     "text": [
      "torque:  2.1148900807172777  Nm\n",
      "5.946647928960841\n"
     ]
    }
   ],
   "source": [
    "mm_to_in = 0.03937008\n",
    "in_to_mm = 1.0 / mm_to_in\n",
    "mph_to_mps = 0.44704\n",
    "in_to_m = 0.0254\n",
    "ft_lbs_to_Nm = 1.0 / 1.355818\n",
    "oz_in_to_ft_lbs = 1.0 / 192.00000012288\n",
    "oz_in_to_Nm = 1.0 / 141.61193227806\n",
    "\n",
    "class Motor:\n",
    "    # castle 171 pulled from Raz Shifrin's Speed Secrets\n",
    "    kv = 1650\n",
    "    power = 0.0\n",
    "    kt = 0.0\n",
    "    max_rpm = 56000.0\n",
    "    resistance = 0.0856092660801802\n",
    "    diam_mm = 47.6 # 1.87 in\n",
    "    length_mm = 85.1 # 3.35 in\n",
    "    surf_area_mmsq = 2.0 * math.pi*(diam_mm/2.0)**2 + math.pi*diam_mm*length_mm\n",
    "    surface_area = surf_area_mmsq / 1000.0**2\n",
    "        \n",
    "    def __init__(self, kv=1580, ns=8):\n",
    "        self.kv = kv\n",
    "        self.ns = ns\n",
    "        self.kt = 1352.0 / kv\n",
    "        self.heat_generated = 0.0\n",
    "        self.external_temp = 0.0\n",
    "        self.current = 0.0\n",
    "        self.volts = 0.0\n",
    "        self.power = 0.0\n",
    "\n",
    "    def calc_heat_generated(self, current):\n",
    "        '''Estimate heat generated over this time step'''\n",
    "        self.heat_generated = self.resistance * current**2\n",
    "        return self.heat_generated\n",
    "        \n",
    "    def update_heat_model(self, air_speed, air_temp):\n",
    "        '''Estimate current temperature based upon incoming heat and expected dissipation'''\n",
    "        # calc the heat generated over the last tic\n",
    "        self.calc_heat_generated()\n",
    "        # calc the heat expelled due to convection on the motor\n",
    "        self.calc_heat_expelled(air_speed, air_temp)\n",
    "        \n",
    "    def calc_heat_expelled(self, air_speed, air_temp):\n",
    "        # convection equation\n",
    "        #q = h_c * A * dT =  # heat transfered per unit time - watts\n",
    "        A = self.surface_area # area of heat transfer surface - m^2\n",
    "        print(\"surface area: \", self.surface_area, \" m^2\")\n",
    "        h_c = 10.45 - air_speed + 10.0 * air_speed**0.5 # convective heat transfer coefficient of the process - W / (m^2 C)\n",
    "        print(\"h_c: \", h_c)\n",
    "        self.external_temp = 95.0\n",
    "        dT = self.external_temp - air_temp # temperature difference between the surface and the fluid - C\n",
    "        q = h_c * A * dT\n",
    "        return q\n",
    "        # convection needs to be >= internal power generated for whatever temperature we want\n",
    "        \n",
    "    def calc_motor_torque(self, current):\n",
    "        '''Estimate total torque based on current'''\n",
    "        t_oz_in = self.kt * current\n",
    "        # print('t_oz_in: ', t_oz_in)\n",
    "        # t_ft_lbs = t_oz_in * oz_in_to_ft_lbs\n",
    "        # print(\"t_ft_lbs: \", t_ft_lbs)\n",
    "        return t_oz_in * oz_in_to_Nm\n",
    "    \n",
    "    \n",
    "    def calc_steady_state_heat_model(self):\n",
    "        current = np.linspace(200, 375, 500)\n",
    "        heat_generated = np.vectorize(self.calc_heat_generated)(current)\n",
    "        plt.plot(current, heat_generated)\n",
    "        plt.grid()\n",
    "        plt.xlabel('Current (A)')\n",
    "        plt.ylabel('Heat Generated (W)')\n",
    "        plt.show()\n",
    "        heat_expelled = np.vectorize(self.calc_heat_expelled)(air_speed = 62.0, air_temp = 30.0) \n",
    "        print(\"heat expelled: \", heat_expelled)\n",
    "        # print(\"heat_flux: \", heat_flux)\n",
    "        \n",
    "    \n",
    "    def estimate_internal_resistance(self):\n",
    "        # this is for the 1717 and has data pulled from raz shifrin's youtube speed secrets finale\n",
    "        # with 34/34 gearing\n",
    "        run1_volts = np.array([26.4, 26.3, 30.2, 33.1]) # mouse, min, avg, max\n",
    "        run1_amps = np.array([273.0, 0.0, 130.7, 276.4])\n",
    "        run1_watss = np.array([7210, 0, 3820, 7273])\n",
    "        run1_rpm = np.array([36682, 1251, 23890, 38963])\n",
    "        # with 40/34 gearing\n",
    "        run2_volts = np.array([26.9, 26.1, 30.9, 34.2]) # mouse, min, avg, max\n",
    "        run2_amps = np.array([361.0, 25.8, 205.4, 361.0])\n",
    "        run2_watss = np.array([9717.0, 817.0, 5979.0, 10203.0])\n",
    "        run2_rpm = np.array([34497.0, 7926.0, 25495.0, 35569.0])\n",
    "        \n",
    "        # calc_resistance\n",
    "        run1_resistance = run1_volts / run1_amps\n",
    "        run2_resistance = run2_volts / run2_amps\n",
    "        print(\"run1_resistance: \", run1_resistance)\n",
    "        print(\"run2_resistance: \", run2_resistance)\n",
    "        \n",
    "        # mouse is the only one that is guaranteed 1:1\n",
    "        print(\"average at mouse: \", np.mean(np.array([run1_resistance[0], run2_resistance[0]])))\n",
    "        \n",
    "        # calc watts\n",
    "        e_r1_watts = run1_volts * run1_amps\n",
    "        e_r2_watts = run2_volts * run2_amps\n",
    "        \n",
    "        # check watts are right\n",
    "        print(\"run 1 e watts: \", e_r1_watts)\n",
    "        print(\"run 1 a watts: \", run1_watss)\n",
    "        print(\"run 2 e watts: \", e_r2_watts)\n",
    "        print(\"run 2 a watts: \", run2_watss)\n",
    "        \n",
    "        \n",
    "    \n",
    "motor = Motor()\n",
    "#motor.calc_steady_state_heat_model() - it appears it is effectively impossible to keep it cool - error hopefully?\n",
    "\n",
    "t_motor = motor.calc_motor_torque(350.0)\n",
    "print(\"torque: \" , t_motor, \" Nm\")\n",
    "t_wheel = t_motor * gearRatio.total_reduction_ratio\n",
    "print(t_wheel)"
   ]
  },
  {
   "cell_type": "code",
   "execution_count": 43,
   "metadata": {},
   "outputs": [
    {
     "data": {
      "text/plain": [
       "1.5456325199999998"
      ]
     },
     "execution_count": 43,
     "metadata": {},
     "output_type": "execute_result"
    }
   ],
   "source": [
    "1.14 * 1.355818"
   ]
  },
  {
   "cell_type": "code",
   "execution_count": null,
   "metadata": {},
   "outputs": [],
   "source": [
    "class ESC:\n",
    "    max_current = 0.0\n",
    "    \n",
    "    def __init__(self):\n",
    "        pass      "
   ]
  },
  {
   "cell_type": "code",
   "execution_count": 8,
   "metadata": {},
   "outputs": [
    {
     "name": "stdout",
     "output_type": "stream",
     "text": [
      "speed in mph:  162.30063300498173\n",
      "speed in mps:  72.55487497854703\n"
     ]
    }
   ],
   "source": [
    "\n",
    "class GearRatios:\n",
    "    motor_rpm = 0.0\n",
    "    pinion = 40.0#34.0\n",
    "    spur = 34.0\n",
    "    differential_ratio = 3.308\n",
    "    tire_diam = 100.0 # mm\n",
    "    tire_circumference = math.pi * tire_diam \n",
    "    \n",
    "    \n",
    "    def __init__(self):\n",
    "        pass\n",
    "    \n",
    "    def calc_car_speed_mph(self, motor_rpm):\n",
    "        # calculate car speed based on drive train config and motor RPM\n",
    "        self.motor_rpm = motor_rpm\n",
    "        self.spur_pinion_ratio = self.spur / self.pinion\n",
    "        # print(\"spur_pinion ratio: \", self.spur_pinion_ratio)\n",
    "        self.total_reduction_ratio = self.spur_pinion_ratio * self.differential_ratio\n",
    "        # print(\"Total Reduction Ratio: \", self.total_reduction_ratio)\n",
    "        # print(\"Tire Circumference: \", self.tire_circumference, \" mm\", self.tire_circumference * mm_to_in, \" in\")\n",
    "        self.roll_out = self.tire_circumference / self.total_reduction_ratio\n",
    "        # print(\"Rollout Ratio: \", self.roll_out * mm_to_in, \" motor rotations / inch of travel\")\n",
    "        speed_mph = (motor_rpm * self.roll_out * mm_to_in * 60) / (12 * 5280)\n",
    "        # speed_mps = speed_mph * mph_to_mps\n",
    "        return speed_mph\n",
    "        \n",
    "    \n",
    "    def calc_car_speed_mps(self, motor_rpm):\n",
    "        # calculate car speed based on drive train config and motor RPM\n",
    "        self.motor_rpm = motor_rpm\n",
    "        self.spur_pinion_ratio = self.spur / self.pinion\n",
    "        # print(\"spur_pinion ratio: \", self.spur_pinion_ratio)\n",
    "        self.total_reduction_ratio = self.spur_pinion_ratio * self.differential_ratio\n",
    "        # print(\"Total Reduction Ratio: \", self.total_reduction_ratio)\n",
    "        # print(\"Tire Circumference: \", self.tire_circumference, \" mm\", self.tire_circumference * mm_to_in, \" in\")\n",
    "        self.roll_out = self.tire_circumference / self.total_reduction_ratio\n",
    "        # print(\"Rollout Ratio: \", self.roll_out * mm_to_in, \" motor rotations / inch of travel\")\n",
    "        speed_mph = (motor_rpm * self.roll_out * mm_to_in * 60) / (12 * 5280)\n",
    "        speed_mps = speed_mph * mph_to_mps\n",
    "        return speed_mps\n",
    "        \n",
    "gearRatio = GearRatios()\n",
    "print(\"speed in mph: \", gearRatio.calc_car_speed_mph(38963))#46768))\n",
    "print(\"speed in mps: \", gearRatio.calc_car_speed_mps(38963))#46768))"
   ]
  }
 ],
 "metadata": {
  "kernelspec": {
   "display_name": "Python 3",
   "language": "python",
   "name": "python3"
  },
  "language_info": {
   "codemirror_mode": {
    "name": "ipython",
    "version": 3
   },
   "file_extension": ".py",
   "mimetype": "text/x-python",
   "name": "python",
   "nbconvert_exporter": "python",
   "pygments_lexer": "ipython3",
   "version": "3.9.0"
  },
  "orig_nbformat": 4,
  "vscode": {
   "interpreter": {
    "hash": "4123b181f2a2bd303452af20202f60170947dc0b244cf9ea4f433e7f6fd51858"
   }
  }
 },
 "nbformat": 4,
 "nbformat_minor": 2
}
