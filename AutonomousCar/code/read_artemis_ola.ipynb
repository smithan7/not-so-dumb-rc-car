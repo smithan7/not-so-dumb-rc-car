{
 "cells": [
  {
   "cell_type": "code",
   "execution_count": 1,
   "metadata": {},
   "outputs": [],
   "source": [
    "import serial\n",
    "import time\n",
    "import pandas as pd\n",
    "import numpy as np\n",
    "import matplotlib.pyplot as plt\n",
    "import time\n",
    "from scipy.spatial.transform import Rotation as R\n",
    "\n",
    "import math\n",
    "\n",
    "def haversine(lat1, lon1, lat2, lon2):\n",
    "      R = 6372.8 #km\n",
    "      dLat = math.radians(lat2 - lat1)\n",
    "      dLon = math.radians(lon2 - lon1)\n",
    "      lat1 = math.radians(lat1)\n",
    "      lat2 = math.radians(lat2)\n",
    "      a = math.sin(dLat/2)**2 + math.cos(lat1)*math.cos(lat2)*math.sin(dLon/2)**2\n",
    "      c = 2*math.asin(math.sqrt(a))\n",
    "      return R * c\n",
    "\n",
    "def bearing(lat1, lon1, lat2, lon2):\n",
    "    lon1, lat1, lon2, lat2 = map(math.radians, [lon1, lat1, lon2, lat2])\n",
    "    dlon = lon2 - lon1\n",
    "    Bearing = math.atan2(math.sin(dlon)*math.cos(lat2), \n",
    "                         math.cos(lat1)*math.sin(lat2)-math.sin(lat1)*math.cos(lat2)*math.cos(dlon))\n",
    "\n",
    "    return Bearing\n",
    "\n",
    "cols = ['rtcDate',\n",
    "        'rtcTime',\n",
    "        'Q9_1',\n",
    "        'Q9_2',\n",
    "        'Q9_3',\n",
    "        'HeadAcc',\n",
    "        'RawAX',\n",
    "        'RawAY',\n",
    "        'RawAZ',\n",
    "        'RawGX',\n",
    "        'RawGY',\n",
    "        'RawGZ',\n",
    "        'RawMX',\n",
    "        'RawMY',\n",
    "        'RawMZ',\n",
    "        'output_Hz']\n",
    "\n",
    "types = [str, # rtcDate - 01/01/2000\n",
    "         str, # rtcTime - 07:24:04.91\n",
    "         float, # q1\n",
    "         float, # q2\n",
    "         float, # q3\n",
    "         float, # head acc\n",
    "         float, # raw ax \n",
    "         float, # raw ay\n",
    "         float, # raw az\n",
    "         float, # raw gx\n",
    "         float, # raw gy\n",
    "         float, # raw gz\n",
    "         float, # raw mx  \n",
    "         float, # raw my\n",
    "         float, # raw mz \n",
    "         float] # output_Hz"
   ]
  },
  {
   "cell_type": "code",
   "execution_count": 2,
   "metadata": {},
   "outputs": [
    {
     "name": "stdout",
     "output_type": "stream",
     "text": [
      "Complete\n"
     ]
    }
   ],
   "source": [
    "ola_ser = serial.Serial()\n",
    "ola_ser_open = False\n",
    "attempts = 0\n",
    "\n",
    "#attempt to connect\n",
    "while not ola_ser_open and attempts < 5:\n",
    "    try:\n",
    "        ola_ser = serial.Serial('com8', 115200, timeout=None)\n",
    "        ola_ser_open = True\n",
    "    except:\n",
    "        print(\"Failed to open pwm serial port: \", attempts)\n",
    "        \n",
    "    if not ola_ser_open:\n",
    "        time.sleep(0.5)\n",
    "        attempts += 1\n",
    "\n",
    "ola_ser.flushInput()\n",
    "\n",
    "start = time.time()\n",
    "log_df = pd.DataFrame(columns=cols)\n",
    "\n",
    "while time.time() - start < 10.0:\n",
    "    if ola_ser.in_waiting:\n",
    "        ola_bytes = ola_ser.readline()\n",
    "        # print(\"ola: \", ola_bytes)\n",
    "        try:\n",
    "            decoded_ola_strings = str(ola_bytes[0:len(ola_bytes)-2].decode(\"utf-8\")).split(',')\n",
    "            # print(decoded_ola_strings)\n",
    "            if decoded_ola_strings[0] == '01/01/2000':\n",
    "                out = [ty(st) for st, ty in zip(decoded_ola_strings, types)]\n",
    "                log_df.loc[len(log_df)] = out\n",
    "                \n",
    "        except:\n",
    "            print(\"didn't work\")\n",
    "            continue\n",
    "\n",
    "ola_ser.close()\n",
    "print(\"Complete\")"
   ]
  },
  {
   "cell_type": "code",
   "execution_count": 3,
   "metadata": {},
   "outputs": [
    {
     "data": {
      "image/png": "[encoded data removed]",
      "text/plain": [
       "<Figure size 432x288 with 1 Axes>"
      ]
     },
     "metadata": {
      "needs_background": "light"
     },
     "output_type": "display_data"
    }
   ],
   "source": [
    "yaws = []\n",
    "pitches = []\n",
    "rolls = []\n",
    "for row in log_df.itertuples():\n",
    "    qx = row.Q9_1\n",
    "    qy = row.Q9_2\n",
    "    qz = row.Q9_3\n",
    "    qw = math.sqrt( 1.0 - (qx**2 + qy**2 + qz**2))\n",
    "    \n",
    "    r = R.from_quat([qx, qy, qz, qw])\n",
    "    ypr = r.as_euler('zyx', degrees=True)\n",
    "    \n",
    "    yaws.append(ypr[0])\n",
    "    pitches.append(ypr[1])\n",
    "    rolls.append(ypr[2])\n",
    "    \n",
    "log_df['Yaw'] = yaws\n",
    "log_df['Pitch'] = pitches\n",
    "log_df['Roll'] = rolls\n",
    "\n",
    "# display(log_df)\n",
    "\n",
    "plt.plot(log_df.Yaw, label='Yaw')\n",
    "plt.plot(log_df.Pitch, label='Pitch')\n",
    "plt.plot(log_df.Roll, label='Roll')\n",
    "plt.grid()\n",
    "plt.legend()\n",
    "plt.show()"
   ]
  }
 ],
 "metadata": {
  "kernelspec": {
   "display_name": "Python 3",
   "language": "python",
   "name": "python3"
  },
  "language_info": {
   "codemirror_mode": {
    "name": "ipython",
    "version": 3
   },
   "file_extension": ".py",
   "mimetype": "text/x-python",
   "name": "python",
   "nbconvert_exporter": "python",
   "pygments_lexer": "ipython3",
   "version": "3.9.0"
  },
  "orig_nbformat": 4,
  "vscode": {
   "interpreter": {
    "hash": "4123b181f2a2bd303452af20202f60170947dc0b244cf9ea4f433e7f6fd51858"
   }
  }
 },
 "nbformat": 4,
 "nbformat_minor": 2
}
