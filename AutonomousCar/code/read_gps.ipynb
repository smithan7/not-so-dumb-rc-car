{
 "cells": [
  {
   "cell_type": "code",
   "execution_count": 1,
   "metadata": {},
   "outputs": [],
   "source": [
    "import serial\n",
    "import time\n",
    "import pandas as pd\n",
    "import numpy as np\n",
    "import matplotlib.pyplot as plt\n",
    "import time\n",
    "from scipy.spatial.transform import Rotation as R\n",
    "\n",
    "import math\n",
    "\n",
    "def haversine(lat1, lon1, lat2, lon2):\n",
    "      R = 6372.8 #km\n",
    "      dLat = math.radians(lat2 - lat1)\n",
    "      dLon = math.radians(lon2 - lon1)\n",
    "      lat1 = math.radians(lat1)\n",
    "      lat2 = math.radians(lat2)\n",
    "      a = math.sin(dLat/2)**2 + math.cos(lat1)*math.cos(lat2)*math.sin(dLon/2)**2\n",
    "      c = 2*math.asin(math.sqrt(a))\n",
    "      return R * c\n",
    "\n",
    "def bearing(lat1, lon1, lat2, lon2):\n",
    "    lon1, lat1, lon2, lat2 = map(math.radians, [lon1, lat1, lon2, lat2])\n",
    "    dlon = lon2 - lon1\n",
    "    Bearing = math.atan2(math.sin(dlon)*math.cos(lat2), \n",
    "                         math.cos(lat1)*math.sin(lat2)-math.sin(lat1)*math.cos(lat2)*math.cos(dlon))\n",
    "\n",
    "    return Bearing\n",
    "\n",
    "gngga_cols = ['header',\n",
    "        'utc time',\n",
    "        'Lat',\n",
    "        'Lat_Dir',\n",
    "        'Lon',\n",
    "        'Lon _Dir',\n",
    "        'Quality_Indicator',\n",
    "        'Satellites Used',\n",
    "        'HDOP',\n",
    "        'Altitude',\n",
    "        'Alt_units',\n",
    "        'Geoidal_Separation',\n",
    "        'GS_units',\n",
    "        'DGPS_Station_ID',\n",
    "        'checksum']\n",
    "\n",
    "gngga_types = [str, # header\n",
    "         float, # utc time\n",
    "         str, # lat\n",
    "         str, # lat dir\n",
    "         str, # lon\n",
    "         str, # lon dir\n",
    "         int, # quality indicator\n",
    "         int, # N satellites\n",
    "         float, # hdop\n",
    "         float, # altitude\n",
    "         str, # alt units\n",
    "         float, #geoidal separation\n",
    "         str, # gs units\n",
    "         str, # dpgs station id\n",
    "         str] # check sum\n",
    "\n",
    "def extract_lon(l):\n",
    "    l = str(l)\n",
    "    # print(\"lon: \", l)\n",
    "    return -float(l[:3]) - float(l[3:])/60.0 \n",
    "\n",
    "def extract_lat(l):\n",
    "    l = str(l)\n",
    "    # print(\"lat: \", l)\n",
    "    return float(l[:2]) + float(l[2:])/60.0 "
   ]
  },
  {
   "cell_type": "code",
   "execution_count": 5,
   "metadata": {},
   "outputs": [
    {
     "name": "stdout",
     "output_type": "stream",
     "text": [
      "Complete:  90953.6  Hz\n"
     ]
    }
   ],
   "source": [
    "gps_ser = serial.Serial()\n",
    "gps_ser_open = False\n",
    "attempts = 0\n",
    "\n",
    "#attempt to connect\n",
    "while not gps_ser_open and attempts < 5:\n",
    "    try:\n",
    "        gps_ser = serial.Serial('com11', 115200, timeout=None)\n",
    "        gps_ser_open = True\n",
    "    except:\n",
    "        print(\"Failed to open pwm serial port: \", attempts)\n",
    "        \n",
    "    if not gps_ser_open:\n",
    "        time.sleep(0.5)\n",
    "        attempts += 1\n",
    "\n",
    "gps_ser.flushInput()\n",
    "\n",
    "start = time.time()\n",
    "log_df = pd.DataFrame(columns=gngga_cols)\n",
    "\n",
    "cnt = 0\n",
    "max_time = 5.0\n",
    "while time.time() - start < max_time:\n",
    "    cnt += 1\n",
    "    if gps_ser.in_waiting:\n",
    "        gps_bytes = gps_ser.readline()\n",
    "        # print(\"gps: \", gps_bytes)\n",
    "        try:\n",
    "            decoded_gps_strings = str(gps_bytes[0:len(gps_bytes)-2].decode(\"utf-8\")).split(',')\n",
    "            # print(decoded_gps_strings[0])\n",
    "            if decoded_gps_strings[0] == '$GNGGA':\n",
    "                # print(decoded_gps_strings)\n",
    "                out = [ty(st) for st, ty in zip(decoded_gps_strings, gngga_types)]\n",
    "                out[2] = extract_lat(out[2])\n",
    "                out[4] = extract_lon(out[4])\n",
    "                log_df.loc[len(log_df)] = out\n",
    "                \n",
    "        except:\n",
    "            print(\"didn't work\")\n",
    "            continue\n",
    "\n",
    "gps_ser.close()\n",
    "print(\"Complete: \", cnt / max_time, \" Hz\")\n"
   ]
  },
  {
   "cell_type": "code",
   "execution_count": 3,
   "metadata": {},
   "outputs": [],
   "source": [
    "m_lon = log_df[\"Lon\"].mean()\n",
    "m_lat = log_df[\"Lat\"].mean()\n",
    "\n",
    "log_df[\"dist2center\"] = log_df.apply(lambda x: 1000.0 * haversine(x[\"Lat\"], x[\"Lon\"], m_lat, m_lon), axis=1)\n",
    "log_df[\"bearing2center\"] = log_df.apply(lambda x: bearing(m_lat, m_lon, x[\"Lat\"], x[\"Lon\"]), axis=1)\n",
    "log_df[\"x\"] = log_df.apply(lambda x: math.sin(x[\"bearing2center\"]) * x[\"dist2center\"], axis=1)\n",
    "log_df[\"y\"] = log_df.apply(lambda x: math.cos(x[\"bearing2center\"]) * x[\"dist2center\"], axis=1)"
   ]
  },
  {
   "cell_type": "code",
   "execution_count": 4,
   "metadata": {},
   "outputs": [
    {
     "data": {
      "image/png": "[encoded data removed]",
      "text/plain": [
       "<Figure size 432x288 with 1 Axes>"
      ]
     },
     "metadata": {
      "needs_background": "light"
     },
     "output_type": "display_data"
    }
   ],
   "source": [
    "# display(log_df)\n",
    "\n",
    "plt.plot(log_df.x, label='X')\n",
    "plt.plot(log_df.y, label='Y')\n",
    "plt.plot(log_df.Altitude - log_df[\"Altitude\"].mean(), label='Z')\n",
    "plt.grid()\n",
    "plt.legend()\n",
    "plt.show()"
   ]
  }
 ],
 "metadata": {
  "kernelspec": {
   "display_name": "Python 3",
   "language": "python",
   "name": "python3"
  },
  "language_info": {
   "codemirror_mode": {
    "name": "ipython",
    "version": 3
   },
   "file_extension": ".py",
   "mimetype": "text/x-python",
   "name": "python",
   "nbconvert_exporter": "python",
   "pygments_lexer": "ipython3",
   "version": "3.9.0"
  },
  "orig_nbformat": 4,
  "vscode": {
   "interpreter": {
    "hash": "4123b181f2a2bd303452af20202f60170947dc0b244cf9ea4f433e7f6fd51858"
   }
  }
 },
 "nbformat": 4,
 "nbformat_minor": 2
}
