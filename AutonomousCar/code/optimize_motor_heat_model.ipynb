{
 "cells": [
  {
   "cell_type": "code",
   "execution_count": 1,
   "metadata": {},
   "outputs": [],
   "source": [
    "import pandas as pd\n",
    "import numpy as np\n",
    "import matplotlib.pyplot as plt\n",
    "log_df = pd.read_pickle(\"laguna_seca_lap_df.pkl\")"
   ]
  },
  {
   "attachments": {},
   "cell_type": "markdown",
   "metadata": {},
   "source": [
    "Optimizing Motor Temperature: This one seems pretty simple if the underlying model is ~right\n",
    "- Inputs: \n",
    "    - Current Temperature - logged by ESC\n",
    "    - Ambient Temperature - Manual capture and recording\n",
    "    - Current Vehicle Speed - Measured from the GPS/IMU position estimate and recorded by the open log\n",
    "    - Motor Current - logged by ESC\n",
    "- Outputs:\n",
    "    - New Temperature - logged by ESC\n",
    "- Model Params to Optimize:\n",
    "    - Motor Specific Heat Coefficient - this is how the temperature changes as a function of enegery flux (J/(g * deg C))\n",
    "    - Motor Convective Heat Coefficient - how the motor expells  heat to the air (J/(m^2 * deg C))\n",
    "- Pre-Set Model Params:\n",
    "    - Motor Resistance: Used to estimate heat generated - estimate based on ESC Volts & Amps\n",
    "\n",
    "Todos:\n",
    "1. Get a few digital thermometers that record the air temp and ground temp\n",
    "2. Time synch the ESC data log and the openlog"
   ]
  },
  {
   "cell_type": "code",
   "execution_count": 2,
   "metadata": {},
   "outputs": [
    {
     "name": "stdout",
     "output_type": "stream",
     "text": [
      "MotorParams: Name:  Castle 1717-1650KV\n",
      "MotorParams: KV:  1650.0\n",
      "MotorParams: Max Battery Cells:  8.0\n",
      "MotorParams: Max Voltage:  0.0  V\n",
      "MotorParams: Max spec'd RPM:  56000.0\n",
      "MotorParams: KT:  0.0\n",
      "MotorParams: Resistance:  0.0856092660801802  Ohms\n",
      "MotorParams: Diameter:  0.0476  m\n",
      "MotorParams: Length:  0.0851  m\n",
      "MotorParams: Length Scalar for Fins:  2.0\n",
      "MotorParams: Max Temp:  82.222  C\n",
      "MotorParams: Mass:  548.0  g\n",
      "MotorParams: Specific Heat Coeff:  0.89  J/(g * deg C)\n",
      "MotorParams: Convective Heat Coeff:  200.0  w/(m^2 deg C)\n"
     ]
    }
   ],
   "source": [
    "from Motor import Motor\n",
    "from MotorParams import MotorParams\n",
    "\n",
    "c1717_1650_params = MotorParams()\n",
    "c1717_1650_params.name = 'Castle 1717-1650KV'\n",
    "c1717_1650_params.kv = 1650.0\n",
    "c1717_1650_params.max_battery_cells = 8.0\n",
    "c1717_1650_params.max_specd_rpm = 56000.0\n",
    "c1717_1650_params.resistance = 0.0856092660801802 # pulled from Raz Shifrin's speed secrets via screen capture\n",
    "c1717_1650_params.diam = 0.0476 # m - 1.87 in\n",
    "c1717_1650_params.length = 0.0851 # m - 3.35 in\n",
    "c1717_1650_params.length_scalar_for_fins = 2.0\n",
    "c1717_1650_params.max_temp = 82.222 # deg C - 180F\n",
    "c1717_1650_params.specific_heat_coeff = 0.89 # J/(g * deg C) - specific heat capacity of aluminum - 0.385 J/(g * deg C) for copper\n",
    "c1717_1650_params.mass = 548.0 # grams for Castle Creations 171\n",
    "c1717_1650_params.convective_heat_coeff = 200.0 # convective heat transfer coefficient of the process - W / (m^2 C) - 200 is an ~upper limit for a cylinder\n",
    "        \n",
    "c1717_1650_params.print()"
   ]
  },
  {
   "cell_type": "code",
   "execution_count": 3,
   "metadata": {},
   "outputs": [
    {
     "name": "stdout",
     "output_type": "stream",
     "text": [
      "Motor: Name:  Castle 1717-1650KV\n",
      "Motor: KV:  1650.0\n",
      "Motor: Max Battery Cells:  8.0\n",
      "Motor: Max Voltage:  29.6  V\n",
      "Motor: Max spec'd RPM:  56000.0\n",
      "Motor: KT:  0.8193939393939393\n",
      "Motor: Resistance:  0.0856092660801802  Ohms\n",
      "Motor: Diameter:  0.0476  m\n",
      "Motor: Length:  0.0851  m\n",
      "Motor: Length Scalar for Fins:  2.0\n",
      "Motor: Surface Area:  0.029010723200309584  m^2\n",
      "Motor: Max Temp:  82.222  C\n",
      "Motor: Mass:  548.0  g\n",
      "Motor: Specific Heat Coeff:  0.89  J/(g * deg C)\n",
      "Motor: Convective Heat Coeff:  200.0  w/(m^2 deg C)\n",
      "Motor: Current:  0.0  A\n",
      "Motor: Voltage:  0.0  g\n",
      "Motor: Torque:  0.0  Nm\n",
      "Motor: Speed:  0.0  RPM\n",
      "Motor: Temperature:  21.12  C\n"
     ]
    }
   ],
   "source": [
    "motor = Motor()\n",
    "motor.read_params(c1717_1650_params)\n",
    "motor.calc_vals()\n",
    "motor.print()"
   ]
  },
  {
   "cell_type": "code",
   "execution_count": 4,
   "metadata": {},
   "outputs": [
    {
     "name": "stdout",
     "output_type": "stream",
     "text": [
      "======================================================================================================\n",
      "n_gen  |  n_eval  |    f     |    S    |    w    |    c1    |    c2    |     f_avg     |     f_min    \n",
      "======================================================================================================\n",
      "     1 |       25 |        - |       - |  0.9000 |  2.00000 |  2.00000 |  1.192436E+05 |  4.600377E+03\n",
      "     2 |       50 |  0.29962 |       2 |  0.5923 |  2.04133 |  1.95867 |  1.006027E+05 |  4.600377E+03\n",
      "     3 |       75 |  0.12955 |       3 |  0.4828 |  2.04063 |  1.97639 |  7.832242E+04 |  4.600377E+03\n",
      "     4 |      100 |  0.06080 |       3 |  0.4385 |  2.03158 |  1.98548 |  6.264320E+04 |  4.600377E+03\n",
      "     5 |      125 | -2.7E-02 |       3 |  0.3835 |  2.02262 |  1.99598 |  4.473626E+04 |  3.848159E+03\n",
      "     6 |      150 | -8.3E-03 |       3 |  0.3948 |  2.01310 |  2.00405 |  3.590660E+04 |  3.848159E+03\n",
      "     7 |      175 | -1.6E-02 |       3 |  0.3898 |  2.00444 |  2.01458 |  2.899518E+04 |  3.848159E+03\n",
      "     8 |      200 | -1.3E-02 |       3 |  0.3919 |  1.99506 |  2.02978 |  2.010720E+04 |  3.848159E+03\n",
      "     9 |      225 | -6.4E-03 |       3 |  0.3960 |  1.98306 |  2.04147 |  1.457526E+04 |  3.247750E+03\n",
      "    10 |      250 |  0.01860 |       3 |  0.4117 |  1.97165 |  2.05803 |  1.094453E+04 |  1.756835E+03\n",
      "    11 |      275 |  0.02885 |       3 |  0.4181 |  1.95810 |  2.07224 |  8.563766E+03 |  1.756835E+03\n",
      "    12 |      300 | -2.6E-02 |       3 |  0.3838 |  1.94423 |  2.07868 |  6.500580E+03 |  2.366421E+02\n",
      "    13 |      325 |  0.13533 |       3 |  0.4866 |  1.93463 |  2.09334 |  6.169276E+03 |  2.366421E+02\n",
      "    14 |      350 |  0.04189 |       3 |  0.4264 |  1.92250 |  2.10107 |  4.142194E+03 |  2.366421E+02\n",
      "    15 |      375 |  0.01178 |       3 |  0.4074 |  1.91294 |  2.11226 |  3.516439E+03 |  2.366421E+02\n",
      "    16 |      400 |  0.00695 |       3 |  0.4043 |  1.90323 |  2.12609 |  3.191584E+03 |  2.366421E+02\n",
      "    17 |      425 |  0.01782 |       3 |  0.4112 |  1.89149 |  2.13496 |  2.832656E+03 |  2.366421E+02\n",
      "    18 |      450 |  0.02143 |       3 |  0.4134 |  1.88066 |  2.13915 |  2.586670E+03 |  2.366421E+02\n",
      "    19 |      475 |  0.01022 |       3 |  0.4064 |  1.87435 |  2.15372 |  1.999026E+03 |  2.366421E+02\n",
      "    20 |      500 |  0.02080 |       3 |  0.4130 |  1.86409 |  2.16315 |  1.888633E+03 |  2.366421E+02\n",
      "    21 |      525 |  0.00669 |       3 |  0.4042 |  1.85347 |  2.16667 |  1.545973E+03 |  1.925810E+02\n",
      "    22 |      550 | -4.3E-03 |       3 |  0.3973 |  1.84622 |  2.17181 |  1.399905E+03 |  1.925810E+02\n",
      "    23 |      575 |  0.00011 |       3 |  0.4001 |  1.84018 |  2.17814 |  1.146936E+03 |  1.758608E+02\n",
      "    24 |      600 | -4.3E-03 |       3 |  0.3973 |  1.83536 |  2.19044 |  1.066089E+03 |  1.752911E+02\n",
      "    25 |      625 | -5.9E-03 |       3 |  0.3963 |  1.82722 |  2.19972 |  1.042324E+03 |  7.838666E+01\n",
      "    26 |      650 | -8.7E-03 |       3 |  0.3946 |  1.81847 |  2.20699 |  9.482991E+02 |  7.838666E+01\n",
      "    27 |      675 | -8.1E-03 |       3 |  0.3949 |  1.81047 |  2.21392 |  9.344467E+02 |  7.838666E+01\n",
      "    28 |      700 | -7.6E-03 |       3 |  0.3953 |  1.80399 |  2.22445 |  8.917733E+02 |  7.838666E+01\n",
      "    29 |      725 | -1.5E-02 |       3 |  0.3904 |  1.79603 |  2.23383 |  8.497450E+02 |  2.055427E+01\n",
      "    30 |      750 | -8.7E-03 |       3 |  0.3946 |  1.78671 |  2.23891 |  7.340759E+02 |  2.055427E+01\n",
      "    31 |      775 | -1.2E-02 |       3 |  0.3927 |  1.77855 |  2.24195 |  6.424280E+02 |  2.055427E+01\n",
      "    32 |      800 | -1.1E-02 |       3 |  0.3933 |  1.77493 |  2.25369 |  6.077715E+02 |  2.055427E+01\n",
      "    33 |      825 | -9.5E-03 |       3 |  0.3941 |  1.76540 |  2.25446 |  5.087937E+02 |  2.055427E+01\n",
      "    34 |      850 | -2.0E-02 |       3 |  0.3873 |  1.75996 |  2.25829 |  4.713330E+02 |  2.055427E+01\n",
      "    35 |      875 | -1.8E-02 |       3 |  0.3889 |  1.75705 |  2.26781 |  4.088437E+02 |  2.5730004375\n",
      "    36 |      900 | -2.0E-02 |       3 |  0.3877 |  1.74963 |  2.26983 |  3.284195E+02 |  2.5730004375\n",
      "    37 |      925 | -1.7E-02 |       3 |  0.3896 |  1.74697 |  2.28011 |  2.705762E+02 |  2.5730004375\n",
      "    38 |      950 | -1.6E-02 |       3 |  0.3898 |  1.73890 |  2.28144 |  2.221440E+02 |  2.5730004375\n",
      "    39 |      975 | -1.5E-02 |       3 |  0.3910 |  1.73497 |  2.28788 |  1.723432E+02 |  2.5730004375\n",
      "    40 |     1000 | -1.3E-02 |       3 |  0.3918 |  1.73096 |  2.29569 |  1.666054E+02 |  2.5730004375\n",
      "F:  [2.57300044]\n",
      "Recorded X:  [  0.89 200.  ]\n",
      "Estimate X:  [  0.88999227 200.01297528]\n",
      "Diff:  [7.72764776e-06 1.29752769e-02]\n"
     ]
    }
   ],
   "source": [
    "#https://pymoo.org/getting_started/part_3.html\n",
    "import numpy as np\n",
    "from pymoo.core.problem import ElementwiseProblem\n",
    "from pymoo.algorithms.moo.nsga2 import NSGA2\n",
    "from pymoo.algorithms.soo.nonconvex.pso import PSO # particle swarm\n",
    "from pymoo.operators.crossover.sbx import SBX\n",
    "from pymoo.operators.mutation.pm import PM\n",
    "from pymoo.operators.sampling.rnd import FloatRandomSampling\n",
    "from pymoo.termination import get_termination\n",
    "from pymoo.optimize import minimize\n",
    "\n",
    "\n",
    "\n",
    "class MotorTemperatureOptmization(ElementwiseProblem):\n",
    "\n",
    "    def __init__(self):\n",
    "        super().__init__(n_var=2,\n",
    "                         n_obj=1,\n",
    "                         n_ieq_constr=0,\n",
    "                         xl=np.array([0,100]),\n",
    "                         xu=np.array([10.0,500]))\n",
    "\n",
    "    def _evaluate(self, x, out, *args, **kwargs):\n",
    "        # x = np.array([motor.resistance, # internal resistance\n",
    "        #       motor.specific_heat_coeff, # specific heat coeff\n",
    "        #       motor.convective_heat_coeff, # convective heat transfer coeff\n",
    "        #       ])\n",
    "        timestep = 0.01\n",
    "        motor_temp = log_df[\"Motor Temp (C)\"].iloc[0]\n",
    "        ambient_temp = 21.12\n",
    "        err = 0.0\n",
    "        # temps = []\n",
    "        for i in range(len(log_df[\"Motor Temp (C)\"])):\n",
    "            current = log_df[\"Motor Current (A)\"].iloc[i]\n",
    "            heat_generated = motor.resistance * current**2\n",
    "            dT = motor_temp - ambient_temp # temperature difference between the surface and the fluid - C\n",
    "            heat_expelled = x[1] * motor.surface_area * dT # rate of heat expulsion - W - J/s\n",
    "            heat_diff = heat_generated - heat_expelled\n",
    "            motor_temp = (heat_diff*timestep) / (motor.mass * x[0]) + motor_temp\n",
    "            err += abs(log_df[\"Motor Temp (C)\"].iloc[i] - motor_temp)\n",
    "        \n",
    "        f1 = err# / len(log_df[\"Motor Temp (C)\"])\n",
    "        out[\"F\"] = [f1]\n",
    "        out[\"G\"] = []\n",
    "\n",
    "\n",
    "problem = MotorTemperatureOptmization()\n",
    "\n",
    "algorithm = NSGA2(\n",
    "    pop_size=40,\n",
    "    n_offsprings=10,\n",
    "    sampling=FloatRandomSampling(),\n",
    "    crossover=SBX(prob=0.9, eta=15),\n",
    "    mutation=PM(eta=20),\n",
    "    eliminate_duplicates=True\n",
    ")\n",
    "\n",
    "alg2 = PSO() # PSO can't be used on multiobjective optimization\n",
    "\n",
    "\n",
    "termination = get_termination(\"n_gen\", 40)\n",
    "\n",
    "res = minimize(problem,\n",
    "               alg2,#algorithm,\n",
    "               termination,\n",
    "               seed=1,\n",
    "               save_history=True,\n",
    "               verbose=True)\n",
    "\n",
    "x = res.X\n",
    "F = res.F\n",
    "\n",
    "r_x = np.array([#motor.resistance, # internal resistance\n",
    "              motor.specific_heat_coeff, # specific heat coeff\n",
    "              motor.convective_heat_coeff, # convective heat transfer coeff\n",
    "              ])\n",
    "\n",
    "print(\"F: \", F)\n",
    "print(\"Recorded X: \", r_x)\n",
    "print(\"Estimate X: \", x)\n",
    "print(\"Diff: \", abs(x - r_x))"
   ]
  },
  {
   "cell_type": "code",
   "execution_count": 6,
   "metadata": {},
   "outputs": [
    {
     "name": "stdout",
     "output_type": "stream",
     "text": [
      "Recorded X:  [  0.89 200.  ]\n",
      "Estimate X:  [  0.88999227 200.01297528]\n",
      "Diff:  [7.72764776e-06 1.29752769e-02]\n"
     ]
    },
    {
     "data": {
      "image/png": "[encoded data removed]",
      "text/plain": [
       "<Figure size 432x288 with 1 Axes>"
      ]
     },
     "metadata": {
      "needs_background": "light"
     },
     "output_type": "display_data"
    },
    {
     "data": {
      "image/png": "[encoded data removed]",
      "text/plain": [
       "<Figure size 432x288 with 1 Axes>"
      ]
     },
     "metadata": {
      "needs_background": "light"
     },
     "output_type": "display_data"
    },
    {
     "data": {
      "image/png": "[encoded data removed]",
      "text/plain": [
       "<Figure size 432x288 with 1 Axes>"
      ]
     },
     "metadata": {
      "needs_background": "light"
     },
     "output_type": "display_data"
    }
   ],
   "source": [
    "r_x = np.array([#motor.resistance, # internal resistance\n",
    "              motor.specific_heat_coeff, # specific heat coeff\n",
    "              motor.convective_heat_coeff, # convective heat transfer coeff\n",
    "              ])\n",
    "\n",
    "print(\"Recorded X: \", r_x)\n",
    "print(\"Estimate X: \", x)\n",
    "print(\"Diff: \", abs(x - r_x))\n",
    "\n",
    "timestep = 0.01\n",
    "motor_temp = log_df[\"Motor Temp (C)\"].iloc[0]\n",
    "ambient_temp = 21.12\n",
    "temps = []\n",
    "currents = []\n",
    "hes = []\n",
    "hgs = []\n",
    "for i in range(len(log_df[\"Motor Temp (C)\"])):\n",
    "    current = log_df[\"Motor Current (A)\"].iloc[i]\n",
    "    heat_generated = motor.resistance * current**2\n",
    "    heat_expelled = x[1] * motor.surface_area * (motor_temp - ambient_temp) # rate of heat expulsion - W - J/s\n",
    "    heat_diff = heat_generated - heat_expelled\n",
    "    motor_temp = (heat_diff*timestep) / (motor.mass * x[0]) + motor_temp\n",
    "    temps.append(motor_temp)\n",
    "    hes.append(heat_expelled)\n",
    "    hgs.append(heat_generated)\n",
    "\n",
    "plt.plot(log_df['Time (s)'], temps, label=\"Est\")\n",
    "plt.plot(log_df['Time (s)'], log_df[\"Motor Temp (C)\"], 'r--', label=\"Rec\")\n",
    "plt.ylabel(\"Motor Temperature (C)\")\n",
    "plt.xlabel(\"Time (s)\")\n",
    "plt.legend()\n",
    "plt.grid()\n",
    "plt.show()\n",
    "\n",
    "plt.plot(log_df['Time (s)'], hes, label=\"Est\")\n",
    "plt.plot(log_df['Time (s)'], log_df[\"Motor Heat Expelled (W)\"], 'r--', label=\"Rec\")\n",
    "plt.ylabel(\"Heat Expelled (W)\")\n",
    "plt.xlabel(\"Time (s)\")\n",
    "plt.legend()\n",
    "plt.grid()\n",
    "plt.show()\n",
    "\n",
    "plt.plot(log_df['Time (s)'], hgs, label=\"Est\")\n",
    "plt.plot(log_df['Time (s)'], log_df[\"Motor Heat Generated (W)\"], 'r--', label=\"Rec\")\n",
    "plt.ylabel('Heat Generated (W)')\n",
    "plt.xlabel(\"Time (s)\")\n",
    "plt.legend()\n",
    "plt.grid()\n",
    "plt.show()\n"
   ]
  }
 ],
 "metadata": {
  "kernelspec": {
   "display_name": "Python 3",
   "language": "python",
   "name": "python3"
  },
  "language_info": {
   "codemirror_mode": {
    "name": "ipython",
    "version": 3
   },
   "file_extension": ".py",
   "mimetype": "text/x-python",
   "name": "python",
   "nbconvert_exporter": "python",
   "pygments_lexer": "ipython3",
   "version": "3.9.0"
  },
  "orig_nbformat": 4,
  "vscode": {
   "interpreter": {
    "hash": "4123b181f2a2bd303452af20202f60170947dc0b244cf9ea4f433e7f6fd51858"
   }
  }
 },
 "nbformat": 4,
 "nbformat_minor": 2
}
