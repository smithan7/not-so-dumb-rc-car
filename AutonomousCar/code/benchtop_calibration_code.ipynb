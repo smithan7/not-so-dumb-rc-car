{
 "cells": [
  {
   "cell_type": "code",
   "execution_count": 20,
   "metadata": {},
   "outputs": [],
   "source": [
    "import serial\n",
    "import numpy as np\n",
    "from sklearn import linear_model\n",
    "import matplotlib.pyplot as plt\n",
    "import pandas as pd\n",
    "import time\n",
    "\n",
    "from DriveTrain import DriveTrain"
   ]
  },
  {
   "cell_type": "code",
   "execution_count": 21,
   "metadata": {},
   "outputs": [
    {
     "name": "stdout",
     "output_type": "stream",
     "text": [
      "Drive Train: Pinion:  15.0 T\n",
      "Drive Train: Spur:  46.0 T\n",
      "Drive Train: Differential Ratio:  2.8\n",
      "Drive Train: Final Drive Ratio:  8.586666666666666 : 1 (Motor Rotations:Wheel Rotation)\n",
      "Drive Train: Tire Diameter:  0.1  m\n",
      "Drive Train: Tire Circumference:  0.3141592653589793  m\n"
     ]
    }
   ],
   "source": [
    "# load the driveshaft class\n",
    "drivetrain = DriveTrain()\n",
    "drivetrain.print()"
   ]
  },
  {
   "cell_type": "code",
   "execution_count": 22,
   "metadata": {},
   "outputs": [],
   "source": [
    "header_i = 0\n",
    "steve_time_i = 1\n",
    "xavier_time_i = 2\n",
    "cmd_status_flag_i = 3\n",
    "steve_cntrl_cmd_i = 4\n",
    "steve_speed_cmd_i = 5\n",
    "steve_steer_cmd_i = 6\n",
    "xavier_status_flag_i = 7\n",
    "xaiver_speed_cmd_i = 8\n",
    "xaiver_steer_cmd_i = 9\n",
    "he_current_time_i = 10\n",
    "he_dt_i = 11\n",
    "trailer_i = 12"
   ]
  },
  {
   "cell_type": "markdown",
   "metadata": {},
   "source": [
    "Auto-Calibration Routine\n",
    "1. Manual-calibrate steering\n",
    "    1. set steering to preset values and measure by hand\n",
    "    2. Manually enter the measured angle \n",
    "    3. Plot to estimate form of function\n",
    "    4. Regression to optimize function for fit \n",
    "2. Auto-Calibrate Power\n",
    "    1. Set throttle values\n",
    "    2. Measure driveshaft speed from encoder\n",
    "    3. Plot to estimate function\n",
    "    4. Regression to optimize function for fit"
   ]
  },
  {
   "cell_type": "code",
   "execution_count": 4,
   "metadata": {},
   "outputs": [
    {
     "name": "stdout",
     "output_type": "stream",
     "text": [
      "0.0 xaiver_steer_cmd_i: 1500\n",
      "0.1 xaiver_steer_cmd_i: 1600\n",
      "0.1 xaiver_steer_cmd_i: 1600\n",
      "0.2 xaiver_steer_cmd_i: 1600\n",
      "0.2 xaiver_steer_cmd_i: 1600\n",
      "0.3 xaiver_steer_cmd_i: 1600\n",
      "0.3 xaiver_steer_cmd_i: 1600\n",
      "0.4 xaiver_steer_cmd_i: 1600\n",
      "0.4 xaiver_steer_cmd_i: 1600\n",
      "0.5 xaiver_steer_cmd_i: 1600\n",
      "0.5 xaiver_steer_cmd_i: 1600\n",
      "0.6 xaiver_steer_cmd_i: 1600\n",
      "0.6 xaiver_steer_cmd_i: 1600\n",
      "0.7 xaiver_steer_cmd_i: 1600\n",
      "0.8 xaiver_steer_cmd_i: 1600\n",
      "0.8 xaiver_steer_cmd_i: 1600\n",
      "0.9 xaiver_steer_cmd_i: 1600\n",
      "0.9 xaiver_steer_cmd_i: 1600\n",
      "1.0 xaiver_steer_cmd_i: 1600\n",
      "1.0 xaiver_steer_cmd_i: 1600\n",
      "1.1 xaiver_steer_cmd_i: 1600\n",
      "1.1 xaiver_steer_cmd_i: 1600\n",
      "1.2 xaiver_steer_cmd_i: 1600\n",
      "1.2 xaiver_steer_cmd_i: 1600\n",
      "1.3 xaiver_steer_cmd_i: 1600\n",
      "1.3 xaiver_steer_cmd_i: 1600\n",
      "1.4 xaiver_steer_cmd_i: 1600\n",
      "1.4 xaiver_steer_cmd_i: 1600\n",
      "1.5 xaiver_steer_cmd_i: 1600\n",
      "1.5 xaiver_steer_cmd_i: 1600\n",
      "1.6 xaiver_steer_cmd_i: 1600\n",
      "1.6 xaiver_steer_cmd_i: 1600\n",
      "1.7 xaiver_steer_cmd_i: 1600\n",
      "1.7 xaiver_steer_cmd_i: 1600\n",
      "1.8 xaiver_steer_cmd_i: 1600\n",
      "1.8 xaiver_steer_cmd_i: 1600\n",
      "1.9 xaiver_steer_cmd_i: 1600\n",
      "1.9 xaiver_steer_cmd_i: 1600\n",
      "2.0 xaiver_steer_cmd_i: 1600\n",
      "2.1 xaiver_steer_cmd_i: 1600\n",
      "2.1 xaiver_steer_cmd_i: 1600\n",
      "2.2 xaiver_steer_cmd_i: 1600\n",
      "2.2 xaiver_steer_cmd_i: 1600\n",
      "2.3 xaiver_steer_cmd_i: 1600\n",
      "2.3 xaiver_steer_cmd_i: 1600\n",
      "2.4 xaiver_steer_cmd_i: 1600\n",
      "2.4 xaiver_steer_cmd_i: 1600\n",
      "2.5 xaiver_steer_cmd_i: 1600\n",
      "2.5 xaiver_steer_cmd_i: 1600\n",
      "2.6 xaiver_steer_cmd_i: 1600\n",
      "2.6 xaiver_steer_cmd_i: 1600\n",
      "2.7 xaiver_steer_cmd_i: 1600\n",
      "2.7 xaiver_steer_cmd_i: 1600\n",
      "2.8 xaiver_steer_cmd_i: 1600\n",
      "2.8 xaiver_steer_cmd_i: 1600\n",
      "2.9 xaiver_steer_cmd_i: 1600\n",
      "2.9 xaiver_steer_cmd_i: 1600\n",
      "3.0 xaiver_steer_cmd_i: 1600\n",
      "3.0 xaiver_steer_cmd_i: 1600\n",
      "3.1 xaiver_steer_cmd_i: 1600\n",
      "3.1 xaiver_steer_cmd_i: 1600\n",
      "3.2 xaiver_steer_cmd_i: 1600\n",
      "3.2 xaiver_steer_cmd_i: 1600\n",
      "3.3 xaiver_steer_cmd_i: 1600\n",
      "3.4 xaiver_steer_cmd_i: 1600\n",
      "3.4 xaiver_steer_cmd_i: 1600\n",
      "3.5 xaiver_steer_cmd_i: 1600\n",
      "3.5 xaiver_steer_cmd_i: 1600\n",
      "3.6 xaiver_steer_cmd_i: 1600\n",
      "3.6 xaiver_steer_cmd_i: 1600\n",
      "3.7 xaiver_steer_cmd_i: 1600\n",
      "3.7 xaiver_steer_cmd_i: 1600\n",
      "3.8 xaiver_steer_cmd_i: 1600\n",
      "3.8 xaiver_steer_cmd_i: 1600\n",
      "3.9 xaiver_steer_cmd_i: 1600\n",
      "3.9 xaiver_steer_cmd_i: 1600\n",
      "4.0 xaiver_steer_cmd_i: 1600\n",
      "4.0 xaiver_steer_cmd_i: 1600\n",
      "4.1 xaiver_steer_cmd_i: 1600\n",
      "4.1 xaiver_steer_cmd_i: 1600\n",
      "4.2 xaiver_steer_cmd_i: 1600\n",
      "4.2 xaiver_steer_cmd_i: 1600\n",
      "4.3 xaiver_steer_cmd_i: 1600\n",
      "4.3 xaiver_steer_cmd_i: 1600\n",
      "4.4 xaiver_steer_cmd_i: 1600\n",
      "4.4 xaiver_steer_cmd_i: 1600\n",
      "4.5 xaiver_steer_cmd_i: 1600\n",
      "4.5 xaiver_steer_cmd_i: 1600\n",
      "4.6 xaiver_steer_cmd_i: 1600\n",
      "4.7 xaiver_steer_cmd_i: 1600\n",
      "4.7 xaiver_steer_cmd_i: 1600\n",
      "4.8 xaiver_steer_cmd_i: 1600\n",
      "4.8 xaiver_steer_cmd_i: 1600\n",
      "4.9 xaiver_steer_cmd_i: 1600\n",
      "4.9 xaiver_steer_cmd_i: 1600\n",
      "5.0 xaiver_steer_cmd_i: 1600\n",
      "5.0 xaiver_steer_cmd_i: 1600\n",
      "0.0 xaiver_steer_cmd_i: 1600\n",
      "0.1 xaiver_steer_cmd_i: 1500\n",
      "0.2 xaiver_steer_cmd_i: 1500\n"
     ]
    }
   ],
   "source": [
    "# Manual Calibrate steering\n",
    "# 1. Send angle to the Arduino\n",
    "def send_and_hold_steering_cmd(steer_cmd, hold_time=5, port='COM22'):\n",
    "\n",
    "    header='C'\n",
    "    tailer='$'\n",
    "    speed_cmd = 1500\n",
    "    checksum_mod = 1000\n",
    "\n",
    "    # Initialize the serial port (replace 'COM7' with the appropriate port)\n",
    "    s_port = serial.Serial(port, 115200)\n",
    "    \n",
    "\n",
    "    cmd = header + \",\" + str(steer_cmd) + \",\" + str(speed_cmd) + \",\" + str((speed_cmd + steer_cmd) % checksum_mod) + \",\" + tailer\n",
    "    s_port.write(cmd.encode('utf-8'))\n",
    "\n",
    "    ss = []\n",
    "\n",
    "    s_time = time.time()\n",
    "    while time.time() - s_time < hold_time:\n",
    "        s = s_port.readline().decode().strip()\n",
    "        if s[0] == header and s[-1] == tailer:\n",
    "            ss.append(s)\n",
    "            s_split = s.split(',')\n",
    "            # print(f\"s_split: {s_split}\")\n",
    "            print(f\"{time.time()-s_time:.1f} xaiver_steer_cmd_i: {s_split[xaiver_steer_cmd_i]}\")\n",
    "        s_port.write(cmd.encode('utf-8'))\n",
    "        \n",
    "    s_port.close()\n",
    "        \n",
    "send_and_hold_steering_cmd(1600, 5)\n",
    "send_and_hold_steering_cmd(1500, 0.1)"
   ]
  },
  {
   "cell_type": "code",
   "execution_count": 5,
   "metadata": {},
   "outputs": [
    {
     "name": "stdout",
     "output_type": "stream",
     "text": [
      "lr.estimator_.coef_: [[0.09642857]]\n",
      "lr.estimator_.intercept_: [-145.]\n",
      "y=mx+b : y=0.09642857142857139x+-144.99999999999994\n",
      "[ -0.35714286   9.28571429   4.46428571  14.10714286  -5.17857143\n",
      " -10.         -14.82142857]\n"
     ]
    },
    {
     "data": {
      "image/png": "[encoded data removed]",
      "text/plain": [
       "<Figure size 432x288 with 1 Axes>"
      ]
     },
     "metadata": {
      "needs_background": "light"
     },
     "output_type": "display_data"
    }
   ],
   "source": [
    "# Important Note - angles are ALWAYS inner wheel\n",
    "pwms = [1500, 1600, 1700, 1800, 1550, 1650, 1750, 1450, 1400, 1350, 1300., 1250.]\n",
    "angs = [0.0, 7.5, 22.5, 22.5, 5., 15.0, 22.5, -5., -10., -15., -22.5, -22.5]\n",
    "\n",
    "plt.plot(pwms, angs, 'b.', label='Raw')\n",
    "plt.xlabel('PWM')\n",
    "plt.ylabel('Steering Angle (deg)')\n",
    "\n",
    "thresh_pwms = [value for index, value in enumerate(pwms) if value > 1300 and value < 1700]\n",
    "thresh_angs = [angs[index] for index, value in enumerate(pwms) if value > 1300 and value < 1700]\n",
    "\n",
    "lr = linear_model.RANSACRegressor()\n",
    "lr.fit(np.array(thresh_pwms).reshape(-1, 1), np.array(thresh_angs).reshape(-1, 1))\n",
    "\n",
    "line_x = np.linspace(1300, 1700, 100)\n",
    "line_y = lr.predict(np.array(line_x).reshape(-1, 1))\n",
    "\n",
    "print(f\"lr.estimator_.coef_: {lr.estimator_.coef_}\")\n",
    "m = lr.estimator_.coef_[0][0]\n",
    "print(f\"lr.estimator_.intercept_: {lr.estimator_.intercept_}\")\n",
    "b = lr.estimator_.intercept_[0]\n",
    "print(F\"y=mx+b : y={m}x+{b}\")\n",
    "\n",
    "\n",
    "est_angs = m * np.array(thresh_pwms) + b\n",
    "print(est_angs)\n",
    "\n",
    "plt.plot(thresh_pwms, thresh_angs, 'r.', label='Threshold')\n",
    "plt.plot(line_x, line_y, 'k--', label='RANSAC Fit')\n",
    "plt.plot(thresh_pwms, est_angs, 'c--', label='Model')\n",
    "plt.xlabel('PWM')\n",
    "plt.ylabel('Steering Angle (deg)')\n",
    "plt.legend()\n",
    "plt.grid()\n",
    "plt.show()\n"
   ]
  },
  {
   "cell_type": "code",
   "execution_count": 6,
   "metadata": {},
   "outputs": [
    {
     "name": "stdout",
     "output_type": "stream",
     "text": [
      "steer_cmd: 1711.111111111111\n",
      "0.0 xaiver_steer_cmd_i: 1500\n",
      "0.1 xaiver_steer_cmd_i: 1711\n",
      "0.1 xaiver_steer_cmd_i: 1711\n",
      "0.2 xaiver_steer_cmd_i: 1711\n",
      "0.2 xaiver_steer_cmd_i: 1711\n",
      "0.3 xaiver_steer_cmd_i: 1711\n",
      "0.3 xaiver_steer_cmd_i: 1711\n",
      "0.4 xaiver_steer_cmd_i: 1711\n",
      "0.4 xaiver_steer_cmd_i: 1711\n",
      "0.5 xaiver_steer_cmd_i: 1711\n",
      "0.5 xaiver_steer_cmd_i: 1711\n",
      "0.6 xaiver_steer_cmd_i: 1711\n",
      "0.6 xaiver_steer_cmd_i: 1711\n",
      "0.7 xaiver_steer_cmd_i: 1711\n",
      "0.7 xaiver_steer_cmd_i: 1711\n",
      "0.8 xaiver_steer_cmd_i: 1711\n",
      "0.8 xaiver_steer_cmd_i: 1711\n",
      "0.9 xaiver_steer_cmd_i: 1711\n",
      "0.9 xaiver_steer_cmd_i: 1711\n",
      "1.0 xaiver_steer_cmd_i: 1711\n",
      "1.1 xaiver_steer_cmd_i: 1711\n",
      "1.1 xaiver_steer_cmd_i: 1711\n",
      "1.2 xaiver_steer_cmd_i: 1711\n",
      "1.2 xaiver_steer_cmd_i: 1711\n",
      "1.3 xaiver_steer_cmd_i: 1711\n",
      "1.3 xaiver_steer_cmd_i: 1711\n",
      "1.4 xaiver_steer_cmd_i: 1711\n",
      "1.4 xaiver_steer_cmd_i: 1711\n",
      "1.5 xaiver_steer_cmd_i: 1711\n",
      "1.5 xaiver_steer_cmd_i: 1711\n",
      "1.6 xaiver_steer_cmd_i: 1711\n",
      "1.6 xaiver_steer_cmd_i: 1711\n",
      "1.7 xaiver_steer_cmd_i: 1711\n",
      "1.7 xaiver_steer_cmd_i: 1711\n",
      "1.8 xaiver_steer_cmd_i: 1711\n",
      "1.8 xaiver_steer_cmd_i: 1711\n",
      "1.9 xaiver_steer_cmd_i: 1711\n",
      "1.9 xaiver_steer_cmd_i: 1711\n",
      "2.0 xaiver_steer_cmd_i: 1711\n",
      "2.0 xaiver_steer_cmd_i: 1711\n",
      "2.1 xaiver_steer_cmd_i: 1711\n",
      "2.1 xaiver_steer_cmd_i: 1711\n",
      "2.2 xaiver_steer_cmd_i: 1711\n",
      "2.2 xaiver_steer_cmd_i: 1711\n",
      "2.3 xaiver_steer_cmd_i: 1711\n",
      "2.4 xaiver_steer_cmd_i: 1711\n",
      "2.4 xaiver_steer_cmd_i: 1711\n",
      "2.5 xaiver_steer_cmd_i: 1711\n",
      "2.5 xaiver_steer_cmd_i: 1711\n",
      "2.6 xaiver_steer_cmd_i: 1711\n",
      "2.6 xaiver_steer_cmd_i: 1711\n",
      "2.7 xaiver_steer_cmd_i: 1711\n",
      "2.7 xaiver_steer_cmd_i: 1711\n",
      "2.8 xaiver_steer_cmd_i: 1711\n",
      "2.8 xaiver_steer_cmd_i: 1711\n",
      "2.9 xaiver_steer_cmd_i: 1711\n",
      "2.9 xaiver_steer_cmd_i: 1711\n",
      "3.0 xaiver_steer_cmd_i: 1711\n",
      "3.0 xaiver_steer_cmd_i: 1711\n",
      "steer_cmd: 1503.7037037037037\n",
      "0.0 xaiver_steer_cmd_i: 1711\n",
      "0.1 xaiver_steer_cmd_i: 1503\n",
      "0.1 xaiver_steer_cmd_i: 1503\n"
     ]
    }
   ],
   "source": [
    "def send_and_hold_steering_angle(steer_angle, hold_time=5, port='COM22'):\n",
    "    header='C'\n",
    "    tailer='$'\n",
    "    speed_cmd = 1500\n",
    "    checksum_mod = 1000\n",
    "\n",
    "    # Initialize the serial port (replace 'COM7' with the appropriate port)\n",
    "    s_port = serial.Serial(port, 115200)\n",
    "    \n",
    "    steer_cmd = (steer_angle - b) / m\n",
    "    print(f\"steer_cmd: {steer_cmd}\")\n",
    "    cmd = header + \",\" + str(steer_cmd) + \",\" + str(speed_cmd) + \",\" + str((speed_cmd + steer_cmd) % checksum_mod) + \",\" + tailer\n",
    "    s_port.write(cmd.encode('utf-8'))\n",
    "\n",
    "    ss = []\n",
    "\n",
    "    s_time = time.time()\n",
    "    while time.time() - s_time < hold_time:\n",
    "        s = s_port.readline().decode().strip()\n",
    "        if s[0] == header and s[-1] == tailer:\n",
    "            ss.append(s)\n",
    "            s_split = s.split(',')\n",
    "            # print(f\"s_split: {s_split}\")\n",
    "            print(f\"{time.time()-s_time:.1f} xaiver_steer_cmd_i: {s_split[xaiver_steer_cmd_i]}\")\n",
    "        s_port.write(cmd.encode('utf-8'))\n",
    "    s_port.close()\n",
    "    \n",
    "send_and_hold_steering_angle(20, 3)\n",
    "send_and_hold_steering_angle(0, 0.1)"
   ]
  },
  {
   "cell_type": "code",
   "execution_count": 7,
   "metadata": {},
   "outputs": [
    {
     "name": "stdout",
     "output_type": "stream",
     "text": [
      "mean: 304.48506500756133 and variance: 3.2311742677852644e-27\n",
      "mean: 304.48506500756133 and variance: 3.2311742677852644e-27\n",
      "mean: 304.48506500756133 and variance: 3.2311742677852644e-27\n",
      "mean: 304.48506500756133 and variance: 3.2311742677852644e-27\n",
      "mean: 304.48506500756133 and variance: 3.2311742677852644e-27\n"
     ]
    }
   ],
   "source": [
    "# Manual Calibrate steering\n",
    "# 1. Send angle to the Arduino\n",
    "dts = []\n",
    "ts = []\n",
    "lts = []\n",
    "\n",
    "def send_and_hold_speed_cmd(speed_cmd, hold_time=5, port='COM22'):\n",
    "\n",
    "    header='C'\n",
    "    tailer='$'\n",
    "    steer_cmd = 1500\n",
    "    checksum_mod = 1000\n",
    "\n",
    "    # Initialize the serial port (replace 'COM7' with the appropriate port)\n",
    "    s_port = serial.Serial(port, 115200)\n",
    "    \n",
    "\n",
    "    cmd = header + \",\" + str(steer_cmd) + \",\" + str(speed_cmd) + \",\" + str((speed_cmd + steer_cmd) % checksum_mod) + \",\" + tailer\n",
    "    s_port.write(cmd.encode('utf-8'))\n",
    "\n",
    "    ss = []\n",
    "\n",
    "    s_time = time.time()\n",
    "    while time.time() - s_time < hold_time:\n",
    "        s = s_port.readline().decode().strip()\n",
    "        if s[0] == header and s[-1] == tailer:\n",
    "            ss.append(s)\n",
    "            s_split = s.split(',')\n",
    "            # print(f\"s_split: {s_split}\")\n",
    "            # print(f\"{time.time()-s_time:.1f} xaiver_speed_cmd_i: {s_split[xaiver_steer_cmd_i]}\")\n",
    "            # print(f\"{time.time()-s_time:.1f} he_dt_i: {s_split[he_dt_i]}\")\n",
    "            ts.append(time.time())\n",
    "            dts.append(60000000./float(s_split[he_dt_i]))\n",
    "            lts.append(float(s_split[he_current_time_i]))\n",
    "            # dts.append(s_split[he_current_time_i])\n",
    "            # print(f\"{time.time()-s_time:.1f} rpm: {60000000./float(s_split[he_dt_i])}\")\n",
    "        s_port.write(cmd.encode('utf-8'))\n",
    "        \n",
    "    s_port.close()\n",
    "\n",
    "for _ in range(5):\n",
    "    send_and_hold_speed_cmd(1550, 8)\n",
    "    print(f\"mean: {np.mean(dts[-100:])} and variance: {np.var(dts[-100:])}\")\n",
    "    send_and_hold_speed_cmd(1500, 1.0)"
   ]
  },
  {
   "cell_type": "code",
   "execution_count": 8,
   "metadata": {},
   "outputs": [
    {
     "data": {
      "image/png": "[encoded data removed]",
      "text/plain": [
       "<Figure size 432x288 with 1 Axes>"
      ]
     },
     "metadata": {
      "needs_background": "light"
     },
     "output_type": "display_data"
    },
    {
     "data": {
      "image/png": "[encoded data removed]",
      "text/plain": [
       "<Figure size 432x288 with 1 Axes>"
      ]
     },
     "metadata": {
      "needs_background": "light"
     },
     "output_type": "display_data"
    }
   ],
   "source": [
    "plt.plot(ts, dts)\n",
    "plt.grid()\n",
    "plt.xlabel(\"Tims (s)\")\n",
    "plt.ylabel(\"Drive Shaft Delta Time (microseconds)\")\n",
    "plt.show()\n",
    "\n",
    "plt.plot(ts, lts)\n",
    "plt.grid()\n",
    "plt.xlabel(\"Tims (s)\")\n",
    "plt.ylabel(\"Drive Shaft Current Time (microseconds)\")\n",
    "plt.show()\n",
    "# print(\"dts: \", dts)"
   ]
  },
  {
   "cell_type": "code",
   "execution_count": 9,
   "metadata": {},
   "outputs": [
    {
     "data": {
      "image/png": "[encoded data removed]",
      "text/plain": [
       "<Figure size 432x288 with 1 Axes>"
      ]
     },
     "metadata": {
      "needs_background": "light"
     },
     "output_type": "display_data"
    },
    {
     "data": {
      "image/png": "[encoded data removed]",
      "text/plain": [
       "<Figure size 432x288 with 1 Axes>"
      ]
     },
     "metadata": {
      "needs_background": "light"
     },
     "output_type": "display_data"
    }
   ],
   "source": [
    "speed_data = np.array([[1500, 0., 0.],\n",
    "                       [1510, 0., 0.],\n",
    "                       [1520, 0., 0.],\n",
    "                       [1530, 0., 0.],\n",
    "                       [1540, 0., 0.],\n",
    "                       [1550,  1171.268481045635,  31.20199052394689],\n",
    "                       [1560, 1172.341266943733,   26.947816740098162],\n",
    "                       [1570, 2147.2698615606773, 998.5076495574136],\n",
    "                       [1575, 2177.6237089676456, 304.76718308091915],\n",
    "                       [1580, 2175.518636319908,  345.9189577672784],\n",
    "                       [1600, 7607.105330020181, 1513.2370220055684]])\n",
    "\n",
    "plt.plot(speed_data[:,0], speed_data[:,1], 'o')\n",
    "plt.xlabel(\"Throttle (PWM)\")\n",
    "plt.ylabel(\"Driveshaft Speed (RPM)\")\n",
    "plt.grid()\n",
    "plt.show()\n",
    "\n",
    "speeds_mph = drivetrain.calc_car_speed_mph_from_driveshaft_rpm(speed_data[:,1])\n",
    "plt.plot(speed_data[:,0], speeds_mph, 'o')\n",
    "plt.xlabel(\"Throttle (PWM)\")\n",
    "plt.ylabel(\"Speed (MPH)\")\n",
    "plt.grid()\n",
    "plt.show()\n",
    "\n",
    "plt.plot(speed_data[:,1], speeds_mph, 'o')\n",
    "plt.xlabel(\"Throttle (PWM)\")\n",
    "plt.ylabel(\"Speed (MPH)\")\n",
    "plt.grid()\n",
    "plt.show()"
   ]
  },
  {
   "cell_type": "code",
   "execution_count": 32,
   "metadata": {},
   "outputs": [
    {
     "data": {
      "image/png": "[encoded data removed]",
      "text/plain": [
       "<Figure size 432x288 with 1 Axes>"
      ]
     },
     "metadata": {
      "needs_background": "light"
     },
     "output_type": "display_data"
    },
    {
     "data": {
      "image/png": "[encoded data removed]",
      "text/plain": [
       "<Figure size 432x288 with 1 Axes>"
      ]
     },
     "metadata": {
      "needs_background": "light"
     },
     "output_type": "display_data"
    },
    {
     "name": "stdout",
     "output_type": "stream",
     "text": [
      "min speed of 0.1 mph = 1121997.376282069 microseconds\n",
      "max speed of 79.9 mph = 1404.2520353968323 microseconds\n"
     ]
    }
   ],
   "source": [
    "ss = []\n",
    "rs = []\n",
    "ds = []\n",
    "\n",
    "for s in range(1, 800):\n",
    "    speed_mph = s/10.\n",
    "    ss.append(speed_mph)\n",
    "    # print(f\"Speed MPH: {speed_mph}\")\n",
    "    ds_rpm = drivetrain.calc_driveshaft_rpm_from_car_speed_mps(speed_mph)\n",
    "    rs.append(ds_rpm)\n",
    "    # print(f\"driveshaft rpm: {ds_rpm}\")\n",
    "    ds_dt = 10.**6 / (ds_rpm / 60.)\n",
    "    ds.append(ds_dt)\n",
    "    # print(f\"HE dt: {ds_dt}\")\n",
    "    \n",
    "plt.plot(ss, rs)\n",
    "plt.xlabel(\"Speed (mph)\")\n",
    "plt.ylabel(\"Driveshaft (rpm)\")\n",
    "plt.grid()\n",
    "plt.show()\n",
    "\n",
    "plt.plot(ss, ds)\n",
    "plt.xlabel(\"Speed (mph)\")\n",
    "plt.ylabel(\"Driveshaft Delta T (microseconds)\")\n",
    "plt.grid()\n",
    "plt.show()\n",
    "\n",
    "print(f\"min speed of {ss[0]} mph = {ds[0]} microseconds\")\n",
    "print(f\"max speed of {ss[-1]} mph = {ds[-1]} microseconds\")"
   ]
  }
 ],
 "metadata": {
  "kernelspec": {
   "display_name": "Python 3",
   "language": "python",
   "name": "python3"
  },
  "language_info": {
   "codemirror_mode": {
    "name": "ipython",
    "version": 3
   },
   "file_extension": ".py",
   "mimetype": "text/x-python",
   "name": "python",
   "nbconvert_exporter": "python",
   "pygments_lexer": "ipython3",
   "version": "3.9.0"
  }
 },
 "nbformat": 4,
 "nbformat_minor": 2
}
