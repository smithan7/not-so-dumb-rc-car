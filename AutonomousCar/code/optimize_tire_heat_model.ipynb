{
 "cells": [
  {
   "cell_type": "code",
   "execution_count": 1,
   "metadata": {},
   "outputs": [],
   "source": [
    "import pandas as pd\n",
    "import numpy as np\n",
    "import matplotlib.pyplot as plt\n",
    "log_df = pd.read_pickle(\"laguna_seca_lap_df.pkl\")"
   ]
  },
  {
   "attachments": {},
   "cell_type": "markdown",
   "metadata": {},
   "source": [
    "Tire Temperature: This one seems pretty simple if the underlying model is ~right\n",
    "- Inputs:\n",
    "    - Current Temperature: measured with contactless IR sensor\n",
    "    - Tire Forces: \n",
    "        - Down Force:\n",
    "            - Car weight: Measure on a scale and record\n",
    "            - Aerodynamic downforce: need to find a way to either measure this based on ride height OR model it based on ability to turn?\n",
    "        - Acceleration/Braking Force:\n",
    "            - Measure from IMU and record on open log\n",
    "        - Cornering Force / Perpendicular Force:\n",
    "            - Measure from IMU and record on open log\n",
    "    - Car Speed:\n",
    "        - Measured from IMU and record on Open Log\n",
    "    - Ambient Temperature:\n",
    "        - Measure and record manually\n",
    "    - Ground Temperature: \n",
    "        - Measure and record manually\n",
    "- Outputs:\n",
    "    - New Temperature: measured with contactless IR sensor\n",
    "\n",
    "Implied todos:\n",
    "1. Get a few digital thermometers that record the air temp, ground temp, and tire temp\n",
    "2. Time synch the ESC data log and the openlog"
   ]
  },
  {
   "cell_type": "code",
   "execution_count": 2,
   "metadata": {},
   "outputs": [
    {
     "name": "stdout",
     "output_type": "stream",
     "text": [
      "TireParams: Diameter:  0.099  m\n",
      "TireParams: Radius:  0.0495  m\n",
      "TireParams: Radius:  0.0495  m\n",
      "TireParams: Tread Depth:  0.011000000000000003  m\n",
      "TireParams: Length:  0.042  m\n",
      "TireParams: Surface Area:  0.013062742253626362  m^2\n",
      "TireParams: Contact Patch:  4.620000000000002e-05  m^2\n",
      "TireParams: Temp:  21.12  C\n",
      "TireParams: Max Temp:  54.4  C\n",
      "TireParams: Mass:  70.24852500839064  g\n",
      "TireParams: Specific Heat Coeff:  1.88  J/(g * deg C)\n",
      "TireParams: Specific Heat Mass:  132.0672270157744  J/(deg C)\n",
      "TireParams: H Convection:  200.0\n",
      "TireParams: H Conduction:  1.0\n"
     ]
    }
   ],
   "source": [
    "from Tire import Tire\n",
    "\n",
    "tire = Tire()\n",
    "tire.calc_values()\n",
    "tire.print()"
   ]
  },
  {
   "cell_type": "code",
   "execution_count": 3,
   "metadata": {},
   "outputs": [
    {
     "name": "stdout",
     "output_type": "stream",
     "text": [
      "======================================================================================================\n",
      "n_gen  |  n_eval  |    f     |    S    |    w    |    c1    |    c2    |     f_avg     |     f_min    \n",
      "======================================================================================================\n",
      "     1 |       25 |        - |       - |  0.9000 |  2.00000 |  2.00000 |  3.837060E+04 |  7.311124E+03\n",
      "     2 |       50 |  0.16745 |       3 |  0.5075 |  2.00000 |  2.01938 |  2.870154E+04 |  2.654057E+03\n",
      "     3 |       75 |  0.05991 |       3 |  0.4379 |  1.99049 |  2.02788 |  1.760294E+04 |  2.654047E+03\n",
      "     4 |      100 | -1.7E-02 |       3 |  0.3893 |  1.98179 |  2.04479 |  9.554525E+03 |  1.008468E+03\n",
      "     5 |      125 | -2.7E-02 |       3 |  0.3832 |  1.96910 |  2.05015 |  6.129880E+03 |  1.008468E+03\n",
      "     6 |      150 | -2.2E-02 |       3 |  0.3866 |  1.96046 |  2.06420 |  4.750562E+03 |  6.817066E+02\n",
      "     7 |      175 | -2.6E-02 |       3 |  0.3840 |  1.94963 |  2.07966 |  3.383640E+03 |  6.817066E+02\n",
      "     8 |      200 | -2.7E-02 |       3 |  0.3830 |  1.93666 |  2.08935 |  3.079191E+03 |  6.817066E+02\n",
      "     9 |      225 | -1.8E-02 |       3 |  0.3891 |  1.92516 |  2.09476 |  2.418054E+03 |  5.017419E+02\n",
      "    10 |      250 |  0.02111 |       3 |  0.4132 |  1.91700 |  2.10443 |  2.195938E+03 |  5.017419E+02\n",
      "    11 |      275 | -4.2E-03 |       3 |  0.3974 |  1.90841 |  2.11441 |  2.013840E+03 |  5.017419E+02\n",
      "    12 |      300 | -1.4E-02 |       3 |  0.3916 |  1.89915 |  2.12192 |  1.578071E+03 |  3.066546E+02\n",
      "    13 |      325 | -3.5E-03 |       3 |  0.3978 |  1.89107 |  2.13109 |  1.335395E+03 |  3.066546E+02\n",
      "    14 |      350 | -8.5E-04 |       3 |  0.3995 |  1.88351 |  2.14617 |  1.000408E+03 |  8.006344E+01\n",
      "    15 |      375 | -1.3E-02 |       3 |  0.3917 |  1.87263 |  2.15786 |  7.729972E+02 |  8.006344E+01\n",
      "    16 |      400 | -1.1E-02 |       3 |  0.3933 |  1.86138 |  2.16685 |  6.576450E+02 |  4.866988E+01\n",
      "    17 |      425 |  0.00816 |       3 |  0.4051 |  1.85165 |  2.17726 |  6.256326E+02 |  4.866988E+01\n",
      "    18 |      450 |  0.01148 |       3 |  0.4072 |  1.84052 |  2.17999 |  5.234278E+02 |  2.735459E+01\n",
      "    19 |      475 | -1.6E-03 |       3 |  0.3990 |  1.83448 |  2.19044 |  4.512919E+02 |  2.735459E+01\n",
      "    20 |      500 | -4.2E-03 |       3 |  0.3974 |  1.82550 |  2.19408 |  4.045484E+02 |  2.735459E+01\n",
      "    21 |      525 | -9.9E-03 |       3 |  0.3938 |  1.82093 |  2.20754 |  3.281752E+02 |  2.735459E+01\n",
      "    22 |      550 | -1.2E-02 |       3 |  0.3927 |  1.81172 |  2.21435 |  2.982494E+02 |  2.735459E+01\n",
      "    23 |      575 | -7.1E-03 |       3 |  0.3956 |  1.80361 |  2.22089 |  2.781879E+02 |  2.735459E+01\n",
      "    24 |      600 | -6.2E-03 |       3 |  0.3961 |  1.79710 |  2.23048 |  2.677123E+02 |  2.062944E+01\n",
      "    25 |      625 |  0.49918 |       2 |  0.7094 |  1.83004 |  2.17678 |  2.141005E+02 |  2.062944E+01\n",
      "    26 |      650 |  0.28225 |       2 |  0.5814 |  1.86957 |  2.13213 |  1.872016E+02 |  2.044282E+01\n",
      "    27 |      675 |  0.18508 |       3 |  0.5189 |  1.87120 |  2.14775 |  1.646251E+02 |  1.978107E+01\n",
      "    28 |      700 |  0.49917 |       2 |  0.7094 |  1.90462 |  2.10009 |  1.583120E+02 |  9.8914819149\n",
      "    29 |      725 |  0.31860 |       2 |  0.6042 |  1.93347 |  2.06771 |  1.561774E+02 |  9.8736288355\n",
      "    30 |      750 |  0.32878 |       2 |  0.6105 |  1.96897 |  2.03133 |  1.389246E+02 |  9.8736288355\n",
      "    31 |      775 |  0.31254 |       2 |  0.6004 |  2.00111 |  1.99896 |  1.323787E+02 |  9.8736288355\n",
      "    32 |      800 |  0.30680 |       2 |  0.5968 |  2.03789 |  1.96213 |  1.229269E+02 |  9.8736288355\n",
      "    33 |      825 |  0.24531 |       2 |  0.5578 |  2.06744 |  1.93256 |  1.051732E+02 |  2.8410030846\n",
      "    34 |      850 |  0.46273 |       2 |  0.6895 |  2.09957 |  1.90043 |  9.667156E+01 |  2.8410030846\n",
      "    35 |      875 |  0.45584 |       2 |  0.6856 |  2.13775 |  1.86225 |  9.235626E+01 |  2.8410030846\n",
      "    36 |      900 |  0.44715 |       2 |  0.6807 |  2.17672 |  1.82328 |  8.039609E+01 |  2.8410030846\n",
      "    37 |      925 |  0.44436 |       2 |  0.6792 |  2.20919 |  1.79081 |  8.024315E+01 |  2.8410030846\n",
      "    38 |      950 |  0.44452 |       2 |  0.6792 |  2.24304 |  1.75696 |  7.650844E+01 |  2.8410030846\n",
      "    39 |      975 |  0.43358 |       2 |  0.6730 |  2.27502 |  1.72498 |  7.008250E+01 |  2.4773684866\n",
      "    40 |     1000 |  0.59849 |       1 |  0.7596 |  2.37372 |  1.62628 |  6.881016E+01 |  2.4773684866\n",
      "F:  [2.47736849]\n",
      "Recorded X:  [200.           1.         132.06722702]\n",
      "Estimate X:  [199.99437275   8.27890586 132.07413734]\n",
      "Diff:  [5.62724672e-03 7.27890586e+00 6.91032596e-03]\n"
     ]
    }
   ],
   "source": [
    "#https://pymoo.org/getting_started/part_3.html\n",
    "import numpy as np\n",
    "from pymoo.core.problem import ElementwiseProblem\n",
    "from pymoo.algorithms.moo.nsga2 import NSGA2\n",
    "from pymoo.algorithms.soo.nonconvex.pso import PSO # particle swarm\n",
    "from pymoo.operators.crossover.sbx import SBX\n",
    "from pymoo.operators.mutation.pm import PM\n",
    "from pymoo.operators.sampling.rnd import FloatRandomSampling\n",
    "from pymoo.termination import get_termination\n",
    "from pymoo.optimize import minimize\n",
    "\n",
    "\n",
    "\n",
    "class TireTemperatureOptmization(ElementwiseProblem):\n",
    "\n",
    "    def __init__(self):\n",
    "        super().__init__(n_var=3,\n",
    "                         n_obj=1,\n",
    "                         n_ieq_constr=0,\n",
    "                         xl=np.array([100, 0, 100]),\n",
    "                         xu=np.array([500.0,10, 200]))\n",
    "\n",
    "    def _evaluate(self, x, out, *args, **kwargs):\n",
    "        timestep = 0.01\n",
    "        tire_temp = log_df[\"Tire Temp (C)\"].iloc[0]\n",
    "        ground_temp = 31.11\n",
    "        ambient_temp = 21.12\n",
    "        err = 0.0\n",
    "        # temps = []\n",
    "        for i in range(len(log_df[\"Tire Temp (C)\"])):\n",
    "            speed = log_df[\"Speed (m/s)\"].iloc[i]\n",
    "            heat_generated = np.sum([log_df[\"Down Force (N)\"].iloc[i] + 8.0*9.81,\n",
    "                                        log_df[\"Drag Force (N)\"].iloc[i] + log_df[\"Acceleration (m/s^2)\"].iloc[i],\n",
    "                                        log_df[\"Perp Force (N)\"].iloc[i]]) * tire.tire_hysteresis_coeff * speed\n",
    "            heat_expelled_convection = x[0] * tire.surface_area * (tire_temp - ambient_temp) # rate of heat expulsion - W - J/\n",
    "            heat_expelled_conduction = x[1] * tire.contact_patch * (tire_temp - ground_temp) # rate of heat expulsion - W - J/s\n",
    "            heat_diff = heat_generated - (heat_expelled_convection + heat_expelled_conduction)\n",
    "            tire_temp = (heat_diff * timestep) / x[2] + tire_temp # deg C\n",
    "            # temps.append(tire_temp)\n",
    "            err += abs(log_df[\"Tire Temp (C)\"].iloc[i] - tire_temp)\n",
    "        \n",
    "        f1 = err# / len(log_df[\"Motor Temp (C)\"])\n",
    "        out[\"F\"] = [f1]\n",
    "        out[\"G\"] = []\n",
    "\n",
    "\n",
    "problem = TireTemperatureOptmization()\n",
    "\n",
    "algorithm = NSGA2(\n",
    "    pop_size=40,\n",
    "    n_offsprings=10,\n",
    "    sampling=FloatRandomSampling(),\n",
    "    crossover=SBX(prob=0.9, eta=15),\n",
    "    mutation=PM(eta=20),\n",
    "    eliminate_duplicates=True\n",
    ")\n",
    "\n",
    "alg2 = PSO() # PSO can't be used on multiobjective optimization\n",
    "\n",
    "\n",
    "termination = get_termination(\"n_gen\", 40)\n",
    "\n",
    "res = minimize(problem,\n",
    "               alg2,#algorithm,\n",
    "               termination,\n",
    "               seed=1,\n",
    "               save_history=True,\n",
    "               verbose=True)\n",
    "\n",
    "x = res.X\n",
    "F = res.F\n",
    "\n",
    "r_x = np.array([tire.h_convection,\n",
    "              tire.h_conduction,\n",
    "              tire.specific_heat_mass\n",
    "              ])\n",
    "\n",
    "print(\"F: \", F)\n",
    "print(\"Recorded X: \", r_x)\n",
    "print(\"Estimate X: \", x)\n",
    "print(\"Diff: \", abs(x - r_x))"
   ]
  },
  {
   "cell_type": "code",
   "execution_count": 4,
   "metadata": {},
   "outputs": [
    {
     "name": "stdout",
     "output_type": "stream",
     "text": [
      "Recorded X:  [200.           1.         132.06722702]\n",
      "Estimate X:  [199.99437275   8.27890586 132.07413734]\n",
      "Diff:  [5.62724672e-03 7.27890586e+00 6.91032596e-03]\n"
     ]
    },
    {
     "data": {
      "image/png": "[encoded data removed]",
      "text/plain": [
       "<Figure size 432x288 with 1 Axes>"
      ]
     },
     "metadata": {
      "needs_background": "light"
     },
     "output_type": "display_data"
    }
   ],
   "source": [
    "r_x = np.array([tire.h_convection,\n",
    "              tire.h_conduction,\n",
    "              tire.specific_heat_mass\n",
    "              ])\n",
    "\n",
    "print(\"Recorded X: \", r_x)\n",
    "print(\"Estimate X: \", x)\n",
    "print(\"Diff: \", abs(x - r_x))\n",
    "\n",
    "timestep = 0.01\n",
    "tire_temp = log_df[\"Tire Temp (C)\"].iloc[0]\n",
    "ground_temp = 31.11\n",
    "ambient_temp = 21.12\n",
    "err = 0.0\n",
    "temps = []\n",
    "for i in range(len(log_df[\"Tire Temp (C)\"])):\n",
    "    speed = log_df[\"Speed (m/s)\"].iloc[i]\n",
    "    heat_generated = np.sum([log_df[\"Down Force (N)\"].iloc[i] + 8.0*9.81,\n",
    "                                log_df[\"Drag Force (N)\"].iloc[i] + log_df[\"Acceleration (m/s^2)\"].iloc[i],\n",
    "                                log_df[\"Perp Force (N)\"].iloc[i]]) * tire.tire_hysteresis_coeff * speed\n",
    "    heat_expelled_convection = x[0] * tire.surface_area * (tire_temp - ambient_temp) # rate of heat expulsion - W - J/\n",
    "    heat_expelled_conduction = x[1] * tire.contact_patch * (tire_temp - ground_temp) # rate of heat expulsion - W - J/s\n",
    "    heat_diff = heat_generated - (heat_expelled_convection + heat_expelled_conduction)\n",
    "    tire_temp = (heat_diff * timestep) / x[2] + tire_temp # deg C\n",
    "    temps.append(tire_temp)\n",
    "    \n",
    "plt.plot(log_df['Time (s)'], temps, label=\"Est\")\n",
    "plt.plot(log_df['Time (s)'], log_df[\"Tire Temp (C)\"], 'r--', label=\"Rec\")\n",
    "plt.ylabel(\"Tire Temperature (C)\")\n",
    "plt.xlabel(\"Time (s)\")\n",
    "plt.legend()\n",
    "plt.grid()\n",
    "plt.show()\n"
   ]
  }
 ],
 "metadata": {
  "kernelspec": {
   "display_name": "Python 3",
   "language": "python",
   "name": "python3"
  },
  "language_info": {
   "codemirror_mode": {
    "name": "ipython",
    "version": 3
   },
   "file_extension": ".py",
   "mimetype": "text/x-python",
   "name": "python",
   "nbconvert_exporter": "python",
   "pygments_lexer": "ipython3",
   "version": "3.9.0"
  },
  "orig_nbformat": 4,
  "vscode": {
   "interpreter": {
    "hash": "4123b181f2a2bd303452af20202f60170947dc0b244cf9ea4f433e7f6fd51858"
   }
  }
 },
 "nbformat": 4,
 "nbformat_minor": 2
}
