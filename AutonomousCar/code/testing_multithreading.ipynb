{
 "cells": [
  {
   "cell_type": "code",
   "execution_count": 27,
   "metadata": {},
   "outputs": [
    {
     "name": "stdout",
     "output_type": "stream",
     "text": [
      "initializing threads\n"
     ]
    },
    {
     "name": "stdout",
     "output_type": "stream",
     "text": [
      "val:  0\n",
      "val:  0\n",
      "val:  0\n",
      "val:  0\n",
      "val:  0\n",
      "val:  0\n",
      "val:  0\n",
      "val:  0\n",
      "val:  0\n",
      "val:  0\n",
      "val:  0\n",
      "val:  0\n",
      "val:  0\n",
      "val:  0\n",
      "val:  0\n",
      "val:  0\n",
      "val:  0\n",
      "val:  0\n",
      "val:  1\n",
      "val:  1\n",
      "val:  1\n",
      "val:  1\n",
      "val:  1\n",
      "val:  1\n",
      "val:  1\n",
      "val:  1\n",
      "val:  1\n",
      "val:  2\n",
      "val:  2\n",
      "val:  2\n",
      "val:  2\n",
      "val:  2\n",
      "val:  2\n",
      "val:  2\n",
      "val:  2\n",
      "val:  2\n",
      "val:  3\n",
      "val:  3\n",
      "val:  3\n",
      "val:  3\n",
      "val:  3\n",
      "val:  3\n",
      "val:  3\n",
      "val:  3\n",
      "val:  3\n",
      "val:  3\n",
      "val:  4\n",
      "val:  4\n",
      "val:  4\n"
     ]
    },
    {
     "name": "stderr",
     "output_type": "stream",
     "text": [
      "Exception ignored in: <function Thread_Tester.__del__ at 0x0000025B25BC2050>\n",
      "Traceback (most recent call last):\n",
      "  File \"C:\\Users\\sgtas\\AppData\\Local\\Temp\\ipykernel_26544\\1487862692.py\", line 37, in __del__\n",
      "  File \"c:\\Users\\sgtas\\AppData\\Local\\Programs\\Python\\Python310\\lib\\threading.py\", line 1093, in join\n",
      "    raise RuntimeError(\"cannot join current thread\")\n",
      "RuntimeError: cannot join current thread\n"
     ]
    },
    {
     "name": "stdout",
     "output_type": "stream",
     "text": [
      "val:  4\n"
     ]
    }
   ],
   "source": [
    "import logging\n",
    "import threading\n",
    "import time\n",
    "\n",
    "class Thread_Tester:\n",
    "    val = 0\n",
    "    lock = threading.Lock()\n",
    "    \n",
    "    def __init__(self):\n",
    "        print(\"initializing threads\")\n",
    "        self.x_a = threading.Thread(target=self.thread_function_a, args=(1,))\n",
    "        self.x_b = threading.Thread(target=self.thread_function_b, args=(1,), daemon=True)\n",
    "        self.x_a.start()\n",
    "        self.x_b.start()\n",
    "        \n",
    "\n",
    "    def thread_function_a(self, name):\n",
    "        for i in range(5):\n",
    "            # print(\"A Thread \", name, \": starting \", i)\n",
    "            time.sleep(1)\n",
    "            # print(\"A Thread \", name, \": finishing \", i)\n",
    "            self.lock.acquire()\n",
    "            self.val = i\n",
    "            self.lock.release()\n",
    "            \n",
    "    def thread_function_b(self, name):\n",
    "        for i in range(50):\n",
    "            # print(\"B Thread \", name, \": starting \", i)\n",
    "            time.sleep(0.1)\n",
    "            # print(\"B Thread \", name, \": finishing \", i)\n",
    "            self.lock.acquire()\n",
    "            print(\"val: \", self.val)\n",
    "            self.lock.release()\n",
    "            \n",
    "    def __del__(self):\n",
    "        print(\"joined threads in destructor\")\n",
    "\n",
    "if __name__ == \"__main__\":\n",
    "    tt = Thread_Tester()\n",
    "    \n",
    "del tt\n"
   ]
  },
  {
   "cell_type": "code",
   "execution_count": 14,
   "metadata": {},
   "outputs": [
    {
     "name": "stderr",
     "output_type": "stream",
     "text": [
      "20:33:11: Main    : before creating thread\n",
      "20:33:11: Main    : before running thread\n",
      "20:33:11: Thread 1: starting\n",
      "20:33:11: Main    : wait for the thread to finish\n",
      "20:33:11: Main    : all done\n"
     ]
    },
    {
     "name": "stderr",
     "output_type": "stream",
     "text": [
      "20:33:13: Thread 1: finishing\n"
     ]
    }
   ],
   "source": [
    "import logging\n",
    "import threading\n",
    "import time\n",
    "\n",
    "def thread_function(name):\n",
    "    logging.info(\"Thread %s: starting\", name)\n",
    "    time.sleep(2)\n",
    "    logging.info(\"Thread %s: finishing\", name)\n",
    "\n",
    "if __name__ == \"__main__\":\n",
    "    format = \"%(asctime)s: %(message)s\"\n",
    "    logging.basicConfig(format=format, level=logging.INFO,\n",
    "                        datefmt=\"%H:%M:%S\")\n",
    "\n",
    "    logging.info(\"Main    : before creating thread\")\n",
    "    x = threading.Thread(target=thread_function, args=(1,))\n",
    "    # x = threading.Thread(target=thread_function, args=(1,), daemon=True)\n",
    "    logging.info(\"Main    : before running thread\")\n",
    "    x.start()\n",
    "    logging.info(\"Main    : wait for the thread to finish\")\n",
    "    # x.join()\n",
    "    logging.info(\"Main    : all done\")"
   ]
  },
  {
   "cell_type": "code",
   "execution_count": 15,
   "metadata": {},
   "outputs": [
    {
     "name": "stderr",
     "output_type": "stream",
     "text": [
      "20:33:21: Main    : before creating thread\n",
      "20:33:21: Main    : before running thread\n",
      "20:33:21: Thread 1: starting\n",
      "20:33:21: Main    : wait for the thread to finish\n",
      "20:33:21: Main    : all done\n"
     ]
    },
    {
     "name": "stderr",
     "output_type": "stream",
     "text": [
      "20:33:23: Thread 1: finishing\n"
     ]
    }
   ],
   "source": [
    "import logging\n",
    "import threading\n",
    "import time\n",
    "\n",
    "def thread_function(name):\n",
    "    logging.info(\"Thread %s: starting\", name)\n",
    "    time.sleep(2)\n",
    "    logging.info(\"Thread %s: finishing\", name)\n",
    "\n",
    "if __name__ == \"__main__\":\n",
    "    format = \"%(asctime)s: %(message)s\"\n",
    "    logging.basicConfig(format=format, level=logging.INFO,\n",
    "                        datefmt=\"%H:%M:%S\")\n",
    "\n",
    "    logging.info(\"Main    : before creating thread\")\n",
    "    # x = threading.Thread(target=thread_function, args=(1,))\n",
    "    x = threading.Thread(target=thread_function, args=(1,), daemon=True)\n",
    "    logging.info(\"Main    : before running thread\")\n",
    "    x.start()\n",
    "    logging.info(\"Main    : wait for the thread to finish\")\n",
    "    # x.join()\n",
    "    logging.info(\"Main    : all done\")"
   ]
  }
 ],
 "metadata": {
  "kernelspec": {
   "display_name": "Python 3",
   "language": "python",
   "name": "python3"
  },
  "language_info": {
   "codemirror_mode": {
    "name": "ipython",
    "version": 3
   },
   "file_extension": ".py",
   "mimetype": "text/x-python",
   "name": "python",
   "nbconvert_exporter": "python",
   "pygments_lexer": "ipython3",
   "version": "3.10.5"
  },
  "orig_nbformat": 4
 },
 "nbformat": 4,
 "nbformat_minor": 2
}
