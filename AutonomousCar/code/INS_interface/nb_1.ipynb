{
 "cells": [
  {
   "cell_type": "code",
   "execution_count": 1,
   "metadata": {},
   "outputs": [],
   "source": [
    "import serial\n",
    "import sys\n",
    "import glob"
   ]
  },
  {
   "cell_type": "code",
   "execution_count": 2,
   "metadata": {},
   "outputs": [
    {
     "data": {
      "text/plain": [
       "[]"
      ]
     },
     "execution_count": 2,
     "metadata": {},
     "output_type": "execute_result"
    }
   ],
   "source": [
    "def get_serial_ports():\n",
    "    \"\"\" Lists serial port names\n",
    "\n",
    "        :raises EnvironmentError:\n",
    "            On unsupported or unknown platforms\n",
    "        :returns:\n",
    "            A list of the serial ports available on the system\n",
    "    \"\"\"\n",
    "    if sys.platform.startswith('win'):\n",
    "        ports = ['COM%s' % (i + 1) for i in range(256)]\n",
    "    elif sys.platform.startswith('linux') or sys.platform.startswith('cygwin'):\n",
    "        # this excludes your current terminal \"/dev/tty\"\n",
    "        ports = glob.glob('/dev/tty[A-Za-z]*')\n",
    "    elif sys.platform.startswith('darwin'):\n",
    "        ports = glob.glob('/dev/tty.*')\n",
    "    else:\n",
    "        raise EnvironmentError('Unsupported platform')\n",
    "\n",
    "    result = []\n",
    "    for port in ports:\n",
    "        try:\n",
    "            s = serial.Serial(port)\n",
    "            s.close()\n",
    "            result.append(port)\n",
    "        except (OSError, serial.SerialException):\n",
    "            pass\n",
    "    return result\n",
    "\n",
    "get_serial_ports()"
   ]
  },
  {
   "cell_type": "code",
   "execution_count": 18,
   "metadata": {},
   "outputs": [
    {
     "name": "stdout",
     "output_type": "stream",
     "text": [
      "start to find device\n"
     ]
    },
    {
     "name": "stderr",
     "output_type": "stream",
     "text": [
      "Exception in thread Thread-18:\n",
      "Traceback (most recent call last):\n",
      "  File \"c:\\Users\\sgtas\\AppData\\Local\\Programs\\Python\\Python39\\lib\\threading.py\", line 950, in _bootstrap_inner\n",
      "    self.run()\n",
      "  File \"c:\\Users\\sgtas\\AppData\\Local\\Programs\\Python\\Python39\\lib\\threading.py\", line 888, in run\n",
      "    self._target(*self._args, **self._kwargs)\n",
      "  File \"C:\\Users\\sgtas\\AppData\\Local\\Temp\\ipykernel_18912\\4020439471.py\", line 21, in prepare\n",
      "  File \"c:\\Users\\sgtas\\AppData\\Local\\Programs\\Python\\Python39\\lib\\site-packages\\aceinna\\tools\\detector.py\", line 20, in find\n",
      "    self.communicator.find_device(callback)\n",
      "  File \"c:\\Users\\sgtas\\AppData\\Local\\Programs\\Python\\Python39\\lib\\site-packages\\aceinna\\framework\\communicators\\serialport.py\", line 84, in find_device\n",
      "    raise Exception(\n",
      "Exception: \n",
      "Cannot connect the device with serial port: COM27.                     \n",
      "Probable reason:                     \n",
      "1. The serial port is invalid.                     \n",
      "2. The device response incorrect format of device info and app info."
     ]
    },
    {
     "name": "stderr",
     "output_type": "stream",
     "text": [
      "\n"
     ]
    }
   ],
   "source": [
    "import time\n",
    "import threading\n",
    "from aceinna.tools import Detector\n",
    "\n",
    "def handle_receive_continous_data(packet_type, data):\n",
    "    # the position data will be in packet_type equals 'pos'\n",
    "    print(packet_type, data)\n",
    "\n",
    "def on_find_device(device):\n",
    "    # prepare to use\n",
    "    device.setup(None)\n",
    "    # listen the output data\n",
    "    print(\"in on find device\")\n",
    "    device.on('continous',  handle_receive_continous_data)\n",
    "\n",
    "def prepare():\n",
    "    detector = Detector(\n",
    "        device_type='OpenRTK',\n",
    "        com_port='COM27',\n",
    "        baudrate=460800)\n",
    "    detector.find(on_find_device)\n",
    "\n",
    "if __name__ == '__main__': \n",
    "    threading.Thread(target=prepare).start()\n",
    "\n",
    "    s_time = time.time()\n",
    "\n",
    "    while time.time() - s_time < 20.0:\n",
    "        time.sleep(1)"
   ]
  },
  {
   "cell_type": "code",
   "execution_count": 19,
   "metadata": {},
   "outputs": [
    {
     "name": "stdout",
     "output_type": "stream",
     "text": [
      "start to find device\n",
      "# Connected OpenRTK with UART on COM27 #\n",
      "Device: OpenRTK330L OpenRTK330LI 5020-3021-01 SN:2275000068 \n",
      "Firmware: RTK_INS App v23.07, BootLoader v01.01.03\n"
     ]
    },
    {
     "ename": "AttributeError",
     "evalue": "'AppContext' object has no attribute '_para_path'",
     "output_type": "error",
     "traceback": [
      "\u001b[1;31m---------------------------------------------------------------------------\u001b[0m",
      "\u001b[1;31mAttributeError\u001b[0m                            Traceback (most recent call last)",
      "\u001b[1;32mUntitled-1.ipynb Cell 4\u001b[0m in \u001b[0;36m<cell line: 39>\u001b[1;34m()\u001b[0m\n\u001b[0;32m     <a href='vscode-notebook-cell:Untitled-1.ipynb?jupyter-notebook#W3sdW50aXRsZWQ%3D?line=36'>37</a>\u001b[0m     detector\u001b[39m.\u001b[39mfind(on_find_device)\n\u001b[0;32m     <a href='vscode-notebook-cell:Untitled-1.ipynb?jupyter-notebook#W3sdW50aXRsZWQ%3D?line=38'>39</a>\u001b[0m \u001b[39mif\u001b[39;00m \u001b[39m__name__\u001b[39m \u001b[39m==\u001b[39m \u001b[39m'\u001b[39m\u001b[39m__main__\u001b[39m\u001b[39m'\u001b[39m:\n\u001b[1;32m---> <a href='vscode-notebook-cell:Untitled-1.ipynb?jupyter-notebook#W3sdW50aXRsZWQ%3D?line=39'>40</a>\u001b[0m     simple_start()\n",
      "\u001b[1;32mUntitled-1.ipynb Cell 4\u001b[0m in \u001b[0;36msimple_start\u001b[1;34m()\u001b[0m\n\u001b[0;32m     <a href='vscode-notebook-cell:Untitled-1.ipynb?jupyter-notebook#W3sdW50aXRsZWQ%3D?line=25'>26</a>\u001b[0m \u001b[39mdef\u001b[39;00m \u001b[39msimple_start\u001b[39m():\n\u001b[0;32m     <a href='vscode-notebook-cell:Untitled-1.ipynb?jupyter-notebook#W3sdW50aXRsZWQ%3D?line=26'>27</a>\u001b[0m     detector \u001b[39m=\u001b[39m Detector()\n\u001b[1;32m---> <a href='vscode-notebook-cell:Untitled-1.ipynb?jupyter-notebook#W3sdW50aXRsZWQ%3D?line=27'>28</a>\u001b[0m     detector\u001b[39m.\u001b[39;49mfind(on_find_device)\n",
      "File \u001b[1;32mc:\\Users\\sgtas\\AppData\\Local\\Programs\\Python\\Python39\\lib\\site-packages\\aceinna\\tools\\detector.py:20\u001b[0m, in \u001b[0;36mDetector.find\u001b[1;34m(self, callback)\u001b[0m\n\u001b[0;32m     16\u001b[0m \u001b[39mif\u001b[39;00m \u001b[39mself\u001b[39m\u001b[39m.\u001b[39mcommunicator \u001b[39mis\u001b[39;00m \u001b[39mNone\u001b[39;00m:\n\u001b[0;32m     17\u001b[0m     \u001b[39mself\u001b[39m\u001b[39m.\u001b[39mcommunicator \u001b[39m=\u001b[39m CommunicatorFactory\u001b[39m.\u001b[39mcreate(\n\u001b[0;32m     18\u001b[0m         \u001b[39mself\u001b[39m\u001b[39m.\u001b[39mcommunication, \u001b[39mself\u001b[39m\u001b[39m.\u001b[39moptions)\n\u001b[1;32m---> 20\u001b[0m \u001b[39mself\u001b[39;49m\u001b[39m.\u001b[39;49mcommunicator\u001b[39m.\u001b[39;49mfind_device(callback)\n",
      "File \u001b[1;32mc:\\Users\\sgtas\\AppData\\Local\\Programs\\Python\\Python39\\lib\\site-packages\\aceinna\\framework\\communicators\\serialport.py:148\u001b[0m, in \u001b[0;36mSerialPort.find_device\u001b[1;34m(self, callback, retries, not_found_handler)\u001b[0m\n\u001b[0;32m    145\u001b[0m             \u001b[39mreturn\u001b[39;00m\n\u001b[0;32m    147\u001b[0m         time\u001b[39m.\u001b[39msleep(\u001b[39m0.5\u001b[39m)\n\u001b[1;32m--> 148\u001b[0m callback(\u001b[39mself\u001b[39;49m\u001b[39m.\u001b[39;49mdevice)\n",
      "\u001b[1;32mUntitled-1.ipynb Cell 4\u001b[0m in \u001b[0;36mon_find_device\u001b[1;34m(device)\u001b[0m\n\u001b[0;32m     <a href='vscode-notebook-cell:Untitled-1.ipynb?jupyter-notebook#W3sdW50aXRsZWQ%3D?line=10'>11</a>\u001b[0m \u001b[39mdef\u001b[39;00m \u001b[39mon_find_device\u001b[39m(device):\n\u001b[0;32m     <a href='vscode-notebook-cell:Untitled-1.ipynb?jupyter-notebook#W3sdW50aXRsZWQ%3D?line=11'>12</a>\u001b[0m     \u001b[39m'''\u001b[39;00m\n\u001b[0;32m     <a href='vscode-notebook-cell:Untitled-1.ipynb?jupyter-notebook#W3sdW50aXRsZWQ%3D?line=12'>13</a>\u001b[0m \u001b[39m    callback after find device\u001b[39;00m\n\u001b[0;32m     <a href='vscode-notebook-cell:Untitled-1.ipynb?jupyter-notebook#W3sdW50aXRsZWQ%3D?line=13'>14</a>\u001b[0m \u001b[39m    '''\u001b[39;00m\n\u001b[1;32m---> <a href='vscode-notebook-cell:Untitled-1.ipynb?jupyter-notebook#W3sdW50aXRsZWQ%3D?line=14'>15</a>\u001b[0m     device\u001b[39m.\u001b[39;49msetup(\u001b[39mNone\u001b[39;49;00m)\n\u001b[0;32m     <a href='vscode-notebook-cell:Untitled-1.ipynb?jupyter-notebook#W3sdW50aXRsZWQ%3D?line=15'>16</a>\u001b[0m     \u001b[39m# start log\u001b[39;00m\n\u001b[0;32m     <a href='vscode-notebook-cell:Untitled-1.ipynb?jupyter-notebook#W3sdW50aXRsZWQ%3D?line=16'>17</a>\u001b[0m     device\u001b[39m.\u001b[39mstart_data_log()\n",
      "File \u001b[1;32mc:\\Users\\sgtas\\AppData\\Local\\Programs\\Python\\Python39\\lib\\site-packages\\aceinna\\devices\\base\\provider_base.py:145\u001b[0m, in \u001b[0;36mOpenDeviceBase.setup\u001b[1;34m(self, options)\u001b[0m\n\u001b[0;32m    139\u001b[0m \u001b[39mdef\u001b[39;00m \u001b[39msetup\u001b[39m(\u001b[39mself\u001b[39m, options):\n\u001b[0;32m    140\u001b[0m     \u001b[39m''' Setup components\u001b[39;00m\n\u001b[0;32m    141\u001b[0m \u001b[39m    1. load properties\u001b[39;00m\n\u001b[0;32m    142\u001b[0m \u001b[39m    2. register message center\u001b[39;00m\n\u001b[0;32m    143\u001b[0m \u001b[39m    3. log raw data\u001b[39;00m\n\u001b[0;32m    144\u001b[0m \u001b[39m    '''\u001b[39;00m\n\u001b[1;32m--> 145\u001b[0m     \u001b[39mself\u001b[39;49m\u001b[39m.\u001b[39;49mload_properties()\n\u001b[0;32m    146\u001b[0m     \u001b[39mself\u001b[39m\u001b[39m.\u001b[39m_logger \u001b[39m=\u001b[39m FileLoger(\u001b[39mself\u001b[39m\u001b[39m.\u001b[39mproperties)\n\u001b[0;32m    147\u001b[0m     \u001b[39mself\u001b[39m\u001b[39m.\u001b[39mcli_options \u001b[39m=\u001b[39m options\n",
      "File \u001b[1;32mc:\\Users\\sgtas\\AppData\\Local\\Programs\\Python\\Python39\\lib\\site-packages\\aceinna\\devices\\base\\rtk_provider_base.py:207\u001b[0m, in \u001b[0;36mRTKProviderBase.load_properties\u001b[1;34m(self)\u001b[0m\n\u001b[0;32m    204\u001b[0m         \u001b[39mreturn\u001b[39;00m\n\u001b[0;32m    206\u001b[0m \u001b[39m# Load the openimu.json based on its app\u001b[39;00m\n\u001b[1;32m--> 207\u001b[0m \u001b[39mif\u001b[39;00m APP_CONTEXT\u001b[39m.\u001b[39;49mpara_path \u001b[39m==\u001b[39m \u001b[39mNone\u001b[39;00m:\n\u001b[0;32m    208\u001b[0m     app_file_path \u001b[39m=\u001b[39m os\u001b[39m.\u001b[39mpath\u001b[39m.\u001b[39mjoin(\n\u001b[0;32m    209\u001b[0m         \u001b[39mself\u001b[39m\u001b[39m.\u001b[39msetting_folder_path, product_name, app_name, \u001b[39mself\u001b[39m\u001b[39m.\u001b[39mconfig_file_name)\n\u001b[0;32m    210\u001b[0m \u001b[39melse\u001b[39;00m:\n",
      "File \u001b[1;32mc:\\Users\\sgtas\\AppData\\Local\\Programs\\Python\\Python39\\lib\\site-packages\\aceinna\\framework\\context.py:74\u001b[0m, in \u001b[0;36mAppContext.para_path\u001b[1;34m(self)\u001b[0m\n\u001b[0;32m     72\u001b[0m \u001b[39m@property\u001b[39m\n\u001b[0;32m     73\u001b[0m \u001b[39mdef\u001b[39;00m \u001b[39mpara_path\u001b[39m(\u001b[39mself\u001b[39m):\n\u001b[1;32m---> 74\u001b[0m     \u001b[39mreturn\u001b[39;00m \u001b[39mself\u001b[39;49m\u001b[39m.\u001b[39;49m_para_path\n",
      "\u001b[1;31mAttributeError\u001b[0m: 'AppContext' object has no attribute '_para_path'"
     ]
    }
   ],
   "source": [
    "import sys\n",
    "import time\n",
    "try:\n",
    "    from aceinna.tools import Detector\n",
    "except:  # pylint: disable=bare-except\n",
    "    print('load package from local')\n",
    "    sys.path.append('./src')\n",
    "    from aceinna.tools import Detector\n",
    "\n",
    "\n",
    "def on_find_device(device):\n",
    "    '''\n",
    "    callback after find device\n",
    "    '''\n",
    "    device.setup(None)\n",
    "    # start log\n",
    "    device.start_data_log()\n",
    "\n",
    "    print('Logging...')\n",
    "    time.sleep(10)\n",
    "    # stop log\n",
    "    device.stop_data_log()\n",
    "    device.close()\n",
    "\n",
    "\n",
    "def simple_start():\n",
    "    detector = Detector()\n",
    "    detector.find(on_find_device)\n",
    "\n",
    "\n",
    "def parameters_start():\n",
    "    detector = Detector(\n",
    "        device_type='IMU',\n",
    "        com_port='COM1',\n",
    "        baudrate=115200\n",
    "    )\n",
    "    detector.find(on_find_device)\n",
    "\n",
    "if __name__ == '__main__':\n",
    "    simple_start()\n",
    "    # parameters_start()"
   ]
  }
 ],
 "metadata": {
  "kernelspec": {
   "display_name": "Python 3",
   "language": "python",
   "name": "python3"
  },
  "language_info": {
   "codemirror_mode": {
    "name": "ipython",
    "version": 3
   },
   "file_extension": ".py",
   "mimetype": "text/x-python",
   "name": "python",
   "nbconvert_exporter": "python",
   "pygments_lexer": "ipython3",
   "version": "3.9.0"
  },
  "orig_nbformat": 4
 },
 "nbformat": 4,
 "nbformat_minor": 2
}
