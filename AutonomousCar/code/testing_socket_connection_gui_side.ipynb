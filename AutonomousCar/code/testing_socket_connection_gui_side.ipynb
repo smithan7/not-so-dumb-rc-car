{
 "cells": [
  {
   "cell_type": "code",
   "execution_count": 1,
   "metadata": {},
   "outputs": [],
   "source": [
    "# Import socket module\n",
    "import socket   \n",
    "import time"
   ]
  },
  {
   "cell_type": "code",
   "execution_count": 2,
   "metadata": {},
   "outputs": [],
   "source": [
    "def is_socket_closed(sock: socket.socket) -> bool:\n",
    "    # https://stackoverflow.com/questions/48024720/python-how-to-check-if-socket-is-still-connected\n",
    "    try:\n",
    "        # this will try to read bytes without blocking and also without removing them from buffer (peek only)\n",
    "        data = sock.recv(16, socket.MSG_DONTWAIT | socket.MSG_PEEK)\n",
    "        if len(data) == 0:\n",
    "            return True\n",
    "    except BlockingIOError:\n",
    "        return False  # socket is open and reading from it would block\n",
    "    except ConnectionResetError:\n",
    "        return True  # socket was closed for some other reason\n",
    "    except Exception as e:\n",
    "        print(\"unexpected exception when checking if a socket is closed\")\n",
    "        return False\n",
    "    return False"
   ]
  },
  {
   "cell_type": "code",
   "execution_count": 1,
   "metadata": {},
   "outputs": [
    {
     "ename": "TimeoutError",
     "evalue": "[WinError 10060] A connection attempt failed because the connected party did not properly respond after a period of time, or established connection failed because connected host has failed to respond",
     "output_type": "error",
     "traceback": [
      "\u001b[1;31m---------------------------------------------------------------------------\u001b[0m",
      "\u001b[1;31mTimeoutError\u001b[0m                              Traceback (most recent call last)",
      "\u001b[1;32mc:\\Users\\sgtas\\OneDrive\\Documents\\GitHub\\not-so-dumb-rc-car\\AutonomousCar\\code\\testing_socket_connection_gui_side.ipynb Cell 3\u001b[0m line \u001b[0;36m<cell line: 16>\u001b[1;34m()\u001b[0m\n\u001b[0;32m     <a href='vscode-notebook-cell:/c%3A/Users/sgtas/OneDrive/Documents/GitHub/not-so-dumb-rc-car/AutonomousCar/code/testing_socket_connection_gui_side.ipynb#W2sZmlsZQ%3D%3D?line=18'>19</a>\u001b[0m sock \u001b[39m=\u001b[39m socket\u001b[39m.\u001b[39msocket()\n\u001b[0;32m     <a href='vscode-notebook-cell:/c%3A/Users/sgtas/OneDrive/Documents/GitHub/not-so-dumb-rc-car/AutonomousCar/code/testing_socket_connection_gui_side.ipynb#W2sZmlsZQ%3D%3D?line=19'>20</a>\u001b[0m \u001b[39mtry\u001b[39;00m:\n\u001b[0;32m     <a href='vscode-notebook-cell:/c%3A/Users/sgtas/OneDrive/Documents/GitHub/not-so-dumb-rc-car/AutonomousCar/code/testing_socket_connection_gui_side.ipynb#W2sZmlsZQ%3D%3D?line=20'>21</a>\u001b[0m     \u001b[39m# sock.connect(('192.168.1.46', port))\u001b[39;00m\n\u001b[1;32m---> <a href='vscode-notebook-cell:/c%3A/Users/sgtas/OneDrive/Documents/GitHub/not-so-dumb-rc-car/AutonomousCar/code/testing_socket_connection_gui_side.ipynb#W2sZmlsZQ%3D%3D?line=21'>22</a>\u001b[0m     sock\u001b[39m.\u001b[39;49mconnect((\u001b[39m'\u001b[39;49m\u001b[39m192.168.1.137\u001b[39;49m\u001b[39m'\u001b[39;49m, port))\n\u001b[0;32m     <a href='vscode-notebook-cell:/c%3A/Users/sgtas/OneDrive/Documents/GitHub/not-so-dumb-rc-car/AutonomousCar/code/testing_socket_connection_gui_side.ipynb#W2sZmlsZQ%3D%3D?line=22'>23</a>\u001b[0m     \u001b[39m# receive data from the server and decoding to get the string.\u001b[39;00m\n\u001b[0;32m     <a href='vscode-notebook-cell:/c%3A/Users/sgtas/OneDrive/Documents/GitHub/not-so-dumb-rc-car/AutonomousCar/code/testing_socket_connection_gui_side.ipynb#W2sZmlsZQ%3D%3D?line=23'>24</a>\u001b[0m     \u001b[39mfor\u001b[39;00m i \u001b[39min\u001b[39;00m \u001b[39mrange\u001b[39m(\u001b[39m100\u001b[39m):\n",
      "\u001b[1;31mTimeoutError\u001b[0m: [WinError 10060] A connection attempt failed because the connected party did not properly respond after a period of time, or established connection failed because connected host has failed to respond"
     ]
    }
   ],
   "source": [
    "# Import socket module\n",
    "import socket     \n",
    "import time  \n",
    "import sys\n",
    "          \n",
    "\n",
    "s_time = time.time()\n",
    "c_time = time.time() - s_time\n",
    "max_duration = 31.0\n",
    "\n",
    "\n",
    "# Define the port on which you want to connect\n",
    "port = 39468 \n",
    "\n",
    "\n",
    "while c_time < max_duration:\n",
    "    c_time = time.time() - s_time\n",
    "    # Create a socket object\n",
    "    sock = socket.socket()\n",
    "    try:\n",
    "        # sock.connect(('192.168.1.46', port))\n",
    "        sock.connect(('192.168.1.137', port))\n",
    "        # receive data from the server and decoding to get the string.\n",
    "        for i in range(100):\n",
    "            data = sock.recv(1024).decode()\n",
    "            print (data)\n",
    "            # print(sys.getsizeof(data))\n",
    "            # print(\"i: \", i)\n",
    "            # s.send(\"1\".encode())\n",
    "        sock.close()\n",
    "    except ConnectionRefusedError:\n",
    "        print(\"Connection not available yet - refused...\")\n",
    "        time.sleep(1)\n",
    "        sock.close()\n",
    "    \n",
    "# close the connection\n",
    "sock.close() "
   ]
  },
  {
   "cell_type": "code",
   "execution_count": 1,
   "metadata": {},
   "outputs": [
    {
     "name": "stdout",
     "output_type": "stream",
     "text": [
      "socket is listening on port:  39468\n"
     ]
    }
   ],
   "source": [
    "import socket\n",
    "\n",
    "s=socket.socket()\n",
    "port = 39468\n",
    "s.bind(('',port))\n",
    "s.listen(10)\n",
    "\n",
    "print(\"socket is listening on port: \", port)\n",
    "while True:\n",
    "    c, addr = s.accept()\n",
    "    print(\"got connection from : \", addr)\n",
    "    c.send(\"Thank you for connecting\".encode())\n",
    "    c.close()\n",
    "    break\n",
    "\n",
    "s.close()"
   ]
  },
  {
   "cell_type": "code",
   "execution_count": 1,
   "metadata": {},
   "outputs": [],
   "source": [
    "# server\n",
    "import random\n",
    "import socket\n",
    "\n",
    "server_socket = socket.socket(socket.AF_INET, socket.SOCK_DGRAM)\n",
    "server_socket.bind(('', 12000))\n",
    "\n",
    "while True:\n",
    "    rand = random.randint(0, 10)\n",
    "    message, address = server_socket.recvfrom(1024)\n",
    "    message = message.upper()\n",
    "    if rand >= 4:\n",
    "        server_socket.sendto(message, address)"
   ]
  }
 ],
 "metadata": {
  "kernelspec": {
   "display_name": "Python 3",
   "language": "python",
   "name": "python3"
  },
  "language_info": {
   "codemirror_mode": {
    "name": "ipython",
    "version": 3
   },
   "file_extension": ".py",
   "mimetype": "text/x-python",
   "name": "python",
   "nbconvert_exporter": "python",
   "pygments_lexer": "ipython3",
   "version": "3.9.0"
  },
  "orig_nbformat": 4,
  "vscode": {
   "interpreter": {
    "hash": "f42384a8a3f986fd426689d7b5b7ca815fe01863126899b033f7cf12035ae323"
   }
  }
 },
 "nbformat": 4,
 "nbformat_minor": 2
}
