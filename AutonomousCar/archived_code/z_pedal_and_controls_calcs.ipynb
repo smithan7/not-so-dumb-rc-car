{
 "cells": [
  {
   "cell_type": "code",
   "execution_count": null,
   "metadata": {},
   "outputs": [],
   "source": [
    "import numpy as np\n",
    "import cv2"
   ]
  },
  {
   "cell_type": "code",
   "execution_count": null,
   "metadata": {},
   "outputs": [],
   "source": [
    "in_lbs_per_second_2_watts = 0.11298\n",
    "in_lbs_2_newton_meter = 0.11298\n",
    "\n",
    "\n",
    "# define pedal class\n",
    "class Pedal:\n",
    "    throw_distance = -1.0 # in\n",
    "    length = -1.0 # in \n",
    "    force = -1.0 # lbs\n",
    "    torque = -1.0 # in*lbs\n",
    "    throw_time = -1.0 # seconds\n",
    "    lin_speed = -1.0\n",
    "    ang_speed = -1.0\n",
    "    power = -1.0 # in * lbs / sec\n",
    "    power_watts = -1.0\n",
    "    name = \"\"\n",
    "    \n",
    "    def __init__(self, n):\n",
    "        self.name = n\n",
    "    \n",
    "    def set_throw_distance(self, td):\n",
    "        self.throw_distance = td\n",
    "        \n",
    "    def set_throw_time(self, tt):\n",
    "        self.throw_time = tt\n",
    "        \n",
    "    def set_length(self, l):\n",
    "        self.length = l\n",
    "        \n",
    "    def set_force(self, f):\n",
    "        self.force = f\n",
    "        \n",
    "    def print_params(self):\n",
    "        print(self.name + \": throw distance: \", self.throw_distance, \" inches\")\n",
    "        print(self.name + \": length: \", self.length, \" inches\")\n",
    "        print(self.name + \": force: \", self.force, \" lbs\")\n",
    "        print(self.name + \": torque: \", self.torque, \"in*lbs\")\n",
    "        print(self.name + \": torque: \", self.torque_nm, \"Newton meters\")\n",
    "        print(self.name + \": throw time: \", self.throw_time, \"s\")\n",
    "        print(self.name + \": linear speed: \", self.lin_speed, \"in/s\")\n",
    "        print(self.name + \": angular speed: \", self.ang_speed, \"rad/s\")\n",
    "        print(self.name + \": power: \", self.power, \"lbs * in/s\")\n",
    "        print(self.name + \": power: \", self.power_watts, \"watts\")\n",
    "        \n",
    "        print(\"\\n\")\n",
    "        \n",
    "    def calc_torque(self):\n",
    "        self.torque = self.force * self.length\n",
    "        self.torque_nm = self.torque * in_lbs_2_newton_meter\n",
    "        \n",
    "    def calc_speed(self):\n",
    "        self.lin_speed = self.throw_distance / self.throw_time\n",
    "        self.ang_speed = self.lin_speed / self.length\n",
    "        \n",
    "    def calc_power(self):\n",
    "        self.power = self.lin_speed * self.force\n",
    "        self.power_watts = self.power * in_lbs_per_second_2_watts\n",
    "        \n",
    "    def test_linear_actuator(self, la):\n",
    "        if la.power >= self.power:\n",
    "            r = la.speed /  self.ang_speed\n",
    "            print(self.name + \": Linear Actuator: \" + la.name + \" will work with arm length: \", r, \" in\")\n",
    "            \n",
    "        else:\n",
    "            print(self.name + \": Linear Actuator: \" + la.name + \" will NOT work\")"
   ]
  },
  {
   "cell_type": "code",
   "execution_count": 196,
   "metadata": {},
   "outputs": [
    {
     "name": "stdout",
     "output_type": "stream",
     "text": [
      "Brake: throw distance:  2.5  inches\n",
      "Brake: length:  7.0  inches\n",
      "Brake: force:  75.0  lbs\n",
      "Brake: torque:  525.0 in*lbs\n",
      "Brake: torque:  59.314499999999995 Newton meters\n",
      "Brake: throw time:  0.1 s\n",
      "Brake: linear speed:  25.0 in/s\n",
      "Brake: angular speed:  3.5714285714285716 rad/s\n",
      "Brake: power:  1875.0 lbs * in/s\n",
      "Brake: power:  211.8375 watts\n",
      "\n",
      "\n",
      "Gas: throw distance:  7.0  inches\n",
      "Gas: length:  6.0  inches\n",
      "Gas: force:  10.0  lbs\n",
      "Gas: torque:  60.0 in*lbs\n",
      "Gas: torque:  6.7787999999999995 Newton meters\n",
      "Gas: throw time:  0.2 s\n",
      "Gas: linear speed:  35.0 in/s\n",
      "Gas: angular speed:  5.833333333333333 rad/s\n",
      "Gas: power:  350.0 lbs * in/s\n",
      "Gas: power:  39.543 watts\n",
      "\n",
      "\n"
     ]
    }
   ],
   "source": [
    "# brake pedal params\n",
    "brake = Pedal(\"Brake\")\n",
    "brake.set_force(75.0) # lbs\n",
    "brake.set_length(7.0) # inches\n",
    "brake.set_throw_distance(2.5) # inches\n",
    "brake.set_throw_time(0.1) # seconds\n",
    "brake.calc_torque()\n",
    "brake.calc_speed()\n",
    "brake.calc_power()\n",
    "brake.print_params()\n",
    "\n",
    "# gas pedal params\n",
    "gas = Pedal(\"Gas\")\n",
    "gas.set_force(10.0) # lbs - this is a guess\n",
    "gas.set_length(6.0) # inches\n",
    "gas.set_throw_distance(7.0) # inches\n",
    "gas.set_throw_time(0.2) # seconds\n",
    "gas.calc_torque()\n",
    "gas.calc_speed()\n",
    "gas.calc_power()\n",
    "gas.print_params()"
   ]
  },
  {
   "cell_type": "code",
   "execution_count": 197,
   "metadata": {},
   "outputs": [],
   "source": [
    "# define an actuator\n",
    "class Actuator:\n",
    "    force = -1\n",
    "    speed = -1\n",
    "    \n",
    "    def __init__(self, n, f, s, c, l):\n",
    "        self.name = n\n",
    "        self.force = f\n",
    "        self.speed = s\n",
    "        self.power = f * s\n",
    "        self.cost = c\n",
    "        self.link = l\n",
    "\n",
    "    def print_params(self):    \n",
    "        print(self.name + \": force: \", self.force, \" lbs\")\n",
    "        print(self.name + \": speed: \", self.speed, \" in/s\")\n",
    "        print(self.name + \": power: \", self.power, \" in*lbs*s\")\n",
    "        print(self.name + \": cost: $\", self.cost)\n",
    "        print(self.name + \": link: \", self.link)"
   ]
  },
  {
   "cell_type": "code",
   "execution_count": 198,
   "metadata": {},
   "outputs": [
    {
     "name": "stdout",
     "output_type": "stream",
     "text": [
      "Progressive Automation 850: force:  850  lbs\n",
      "Progressive Automation 850: speed:  0.605  in/s\n",
      "Progressive Automation 850: power:  514.25  in*lbs*s\n",
      "Progressive Automation 850: cost: $ 317.0\n",
      "Progressive Automation 850: link:  https://www.progressiveautomations.com/products/heavy-duty-linear-actuator?variant=30315111448643\n",
      "Progressive Automation 2000: force:  2000  lbs\n",
      "Progressive Automation 2000: speed:  0.3  in/s\n",
      "Progressive Automation 2000: power:  600.0  in*lbs*s\n",
      "Progressive Automation 2000: cost: $ 317.0\n",
      "Progressive Automation 2000: link:  https://www.progressiveautomations.com/products/heavy-duty-linear-actuator?variant=30315111448643\n",
      "Amazon: force:  330  lbs\n",
      "Amazon: speed:  0.39  in/s\n",
      "Amazon: power:  128.70000000000002  in*lbs*s\n",
      "Amazon: cost: $ 41.99\n",
      "Amazon: link:  https://www.amazon.com/ECO-WORTHY-330lbs-Tracker-Actuator-Multi-function/dp/B00NM8H5VO/ref=sr_1_1_sspa?crid=23MSITVAZC7CY&keywords=linear%2Bactuator&qid=1673836220&sprefix=linear%2Bactuat%2Caps%2C500&sr=8-1-spons&spLa=ZW5jcnlwdGVkUXVhbGlmaWVyPUExUko2VjlKMkk4NEc1JmVuY3J5cHRlZElkPUEwMjMyNTQ3MldERjhDWldSTFNFQyZlbmNyeXB0ZWRBZElkPUEwMTQzOTAwMjBWTkpKSkZJTTVSNiZ3aWRnZXROYW1lPXNwX2F0ZiZhY3Rpb249Y2xpY2tSZWRpcmVjdCZkb05vdExvZ0NsaWNrPXRydWU&th=1\n"
     ]
    }
   ],
   "source": [
    "# add in linear actuators\n",
    "lin0 = Actuator('Progressive Automation 850', 850, 0.605, 317.00, \"https://www.progressiveautomations.com/products/heavy-duty-linear-actuator?variant=30315111448643\")\n",
    "lin0.print_params()\n",
    "lin1 = Actuator('Progressive Automation 2000', 2000, 0.3, 317.00, \"https://www.progressiveautomations.com/products/heavy-duty-linear-actuator?variant=30315111448643\")\n",
    "lin1.print_params()\n",
    "lin2 = Actuator(\"Amazon\", 330, 0.39, 41.99, \"https://www.amazon.com/ECO-WORTHY-330lbs-Tracker-Actuator-Multi-function/dp/B00NM8H5VO/ref=sr_1_1_sspa?crid=23MSITVAZC7CY&keywords=linear%2Bactuator&qid=1673836220&sprefix=linear%2Bactuat%2Caps%2C500&sr=8-1-spons&spLa=ZW5jcnlwdGVkUXVhbGlmaWVyPUExUko2VjlKMkk4NEc1JmVuY3J5cHRlZElkPUEwMjMyNTQ3MldERjhDWldSTFNFQyZlbmNyeXB0ZWRBZElkPUEwMTQzOTAwMjBWTkpKSkZJTTVSNiZ3aWRnZXROYW1lPXNwX2F0ZiZhY3Rpb249Y2xpY2tSZWRpcmVjdCZkb05vdExvZ0NsaWNrPXRydWU&th=1\")\n",
    "lin2.print_params()"
   ]
  },
  {
   "cell_type": "code",
   "execution_count": 199,
   "metadata": {},
   "outputs": [
    {
     "name": "stdout",
     "output_type": "stream",
     "text": [
      "Gas: Linear Actuator: Progressive Automation 850 will work with arm length:  0.10371428571428572  in\n",
      "Brake: Linear Actuator: Progressive Automation 850 will NOT work\n"
     ]
    }
   ],
   "source": [
    "gas.test_linear_actuator(lin0)\n",
    "brake.test_linear_actuator(lin0)"
   ]
  },
  {
   "cell_type": "code",
   "execution_count": 200,
   "metadata": {},
   "outputs": [],
   "source": [
    "# set up a motor class\n",
    "class Motor:\n",
    "    max_torque = -1.0\n",
    "    max_speed_rpm = -1.0\n",
    "    max_speed_radians_per_second = -1.0\n",
    "    name = \"\"\n",
    "    link = \"\"\n",
    "    def __init__(self, n, l, t, s, c):\n",
    "        self.max_torque = t\n",
    "        self.max_speed_rpm = s\n",
    "        self.max_speed_radians_per_second = t * s * np.pi * 2.0 / 30.0\n",
    "        self.name = n\n",
    "        self.link = l\n",
    "        self.cost = c\n",
    "        self.power = t * self.max_speed_radians_per_second\n",
    "        \n",
    "    def print_params(self):    \n",
    "        print(self.name + \": torque: \", self.max_torque, \" in-lbs\")\n",
    "        print(self.name + \": speed: \", self.max_speed_rpm, \" rpm\")\n",
    "        print(self.name + \": speed: \", self.max_speed_radians_per_second, \" rads/s\")\n",
    "        print(self.name + \": power: \", self.power, \" in*lbs*s\")\n",
    "        print(self.name + \": cost: $\", self.cost)\n",
    "        print(self.name + \": link: \", self.link)"
   ]
  },
  {
   "cell_type": "code",
   "execution_count": 201,
   "metadata": {},
   "outputs": [
    {
     "name": "stdout",
     "output_type": "stream",
     "text": [
      "Bison DC Gear Motor: torque:  443.0  in-lbs\n",
      "Bison DC Gear Motor: speed:  23.0  rpm\n",
      "Bison DC Gear Motor: speed:  2133.9791698284266  rads/s\n",
      "Bison DC Gear Motor: power:  945352.772233993  in*lbs*s\n",
      "Bison DC Gear Motor: cost: $ 1062.42\n",
      "Bison DC Gear Motor: link:  https://www.grainger.com/product/BISON-DC-Gearmotor-12V-DC-35TV53\n"
     ]
    }
   ],
   "source": [
    "mot0 = Motor(\"Bison DC Gear Motor\", \"https://www.grainger.com/product/BISON-DC-Gearmotor-12V-DC-35TV53\", 443.0, 23.0, 1062.42)\n",
    "mot0.print_params()"
   ]
  },
  {
   "cell_type": "code",
   "execution_count": 202,
   "metadata": {},
   "outputs": [
    {
     "data": {
      "text/plain": [
       "((0.25, -0.9682458365518543), (0.25, 0.9682458365518543))"
      ]
     },
     "execution_count": 202,
     "metadata": {},
     "output_type": "execute_result"
    }
   ],
   "source": [
    "import math\n",
    "\n",
    "def circle_intersection(circle1, circle2):\n",
    "    '''\n",
    "    @summary: calculates intersection points of two circles\n",
    "    @param circle1: tuple(x,y,radius)\n",
    "    @param circle2: tuple(x,y,radius)\n",
    "    @result: tuple of intersection points (which are (x,y) tuple)\n",
    "    '''\n",
    "    # return self.circle_intersection_sympy(circle1,circle2)\n",
    "    x1,y1,r1 = circle1\n",
    "    x2,y2,r2 = circle2\n",
    "    # http://stackoverflow.com/a/3349134/798588\n",
    "    dx,dy = x2-x1,y2-y1\n",
    "    d = math.sqrt(dx*dx+dy*dy)\n",
    "    if d > r1+r2:\n",
    "        print('no solutions, the circles are separate')\n",
    "        return None\n",
    "    if d < abs(r1-r2):\n",
    "        print('no solutions because one circle is contained within the other')\n",
    "        return None\n",
    "    if d == 0 and r1 == r2:\n",
    "        print('circles are coincident and there are an infinite number of solutions')\n",
    "        return None\n",
    "\n",
    "    a = (r1*r1-r2*r2+d*d)/(2*d)\n",
    "    h = math.sqrt(r1*r1-a*a)\n",
    "    xm = x1 + a*dx/d\n",
    "    ym = y1 + a*dy/d\n",
    "    xs1 = xm + h*dy/d\n",
    "    xs2 = xm - h*dy/d\n",
    "    ys1 = ym - h*dx/d\n",
    "    ys2 = ym + h*dx/d\n",
    "\n",
    "    return (xs1,ys1),(xs2,ys2)\n",
    "\n",
    "circle_intersection((0,0,1), (0.5,0,1))"
   ]
  },
  {
   "cell_type": "code",
   "execution_count": 203,
   "metadata": {},
   "outputs": [
    {
     "name": "stdout",
     "output_type": "stream",
     "text": [
      "circle circle intersection:  ((0.25, -0.9682458365518543), (0.25, 0.9682458365518543))\n",
      "circle_line_intersection:  (0.7071067811865476, 0.7071067811865476)\n"
     ]
    }
   ],
   "source": [
    "import sympy\n",
    "\n",
    "def circle_circle_intersection(circle1, circle2):\n",
    "    #https://gist.github.com/xaedes/974535e71009fa8f090e\n",
    "    x1,y1,r1 = circle1\n",
    "    x2,y2,r2 = circle2\n",
    "    c1=sympy.Circle(sympy.Point(x1,y1),r1)\n",
    "    c2=sympy.Circle(sympy.Point(x2,y2),r2)\n",
    "    intersection = c1.intersection(c2)\n",
    "    if len(intersection) == 0:\n",
    "        print(\"No intersection between circles\")\n",
    "        return\n",
    "    if len(intersection) == 1:\n",
    "        intersection.append(intersection[0])\n",
    "    p1 = intersection[0]\n",
    "    p2 = intersection[1]\n",
    "    xs1,ys1 = float(p1.x), float(p1.y)\n",
    "    xs2,ys2 = float(p2.x), float(p2.y)\n",
    "    return (xs1,ys1),(xs2,ys2)\n",
    "\n",
    "def circle_line_intersection(circle1, line1):\n",
    "    x1,y1,r1 = circle1\n",
    "    x2,y2,x3,y3 = line1\n",
    "    c1=sympy.Circle(sympy.Point(x1,y1),r1)\n",
    "    l1=sympy.Segment(sympy.Point(x2,y2), sympy.Point(x3,y3))\n",
    "    intersection = c1.intersection(l1)\n",
    "    if len(intersection) == 0:\n",
    "        print(\"No line segment intersection\")\n",
    "        return ()\n",
    "    if len(intersection) == 1:\n",
    "        p1 = intersection[0]\n",
    "        xs1,ys1 = float(p1.x), float(p1.y)\n",
    "        return (xs1,ys1)\n",
    "    \n",
    "    if len(intersection) == 2:\n",
    "        p1 = intersection[0]\n",
    "        p2 = intersection[1]\n",
    "        xs1,ys1 = float(p1.x), float(p1.y)\n",
    "        xs2,ys2 = float(p2.x), float(p2.y)\n",
    "        return (xs1,ys1),(xs2,ys2)\n",
    "\n",
    "print(\"circle circle intersection: \", circle_circle_intersection((0,0,1), (0.5,0,1)))\n",
    "print(\"circle_line_intersection: \", circle_line_intersection((0,0,1), (0,0,5,5)))"
   ]
  },
  {
   "cell_type": "code",
   "execution_count": 228,
   "metadata": {},
   "outputs": [
    {
     "data": {
      "image/png": "[encoded data removed]",
      "text/plain": [
       "<Figure size 432x288 with 1 Axes>"
      ]
     },
     "metadata": {
      "needs_background": "light"
     },
     "output_type": "display_data"
    },
    {
     "data": {
      "image/png": "[encoded data removed]",
      "text/plain": [
       "<Figure size 432x288 with 1 Axes>"
      ]
     },
     "metadata": {
      "needs_background": "light"
     },
     "output_type": "display_data"
    },
    {
     "data": {
      "image/png": "[encoded data removed]",
      "text/plain": [
       "<Figure size 432x288 with 1 Axes>"
      ]
     },
     "metadata": {
      "needs_background": "light"
     },
     "output_type": "display_data"
    },
    {
     "data": {
      "image/png": "[encoded data removed]",
      "text/plain": [
       "<Figure size 432x288 with 1 Axes>"
      ]
     },
     "metadata": {
      "needs_background": "light"
     },
     "output_type": "display_data"
    }
   ],
   "source": [
    "import math\n",
    "vertical_line = sympy.Line((0, 0), (0, 1))\n",
    "\n",
    "# adding linkage\n",
    "\n",
    "# brake pedal\n",
    "brake_mount = (0.5, 16)\n",
    "brake_length = 7\n",
    "\n",
    "# lever that connects servo to brake pedal\n",
    "lever_mount = (0,0)\n",
    "lever_short_arm_length = 2\n",
    "lever_long_arm_length = 16\n",
    "lever_offset_angle = math.radians(30.0)\n",
    "\n",
    "# servo\n",
    "servo_mount = (10, 2) # inches\n",
    "servo_length = 9.1 # inches\n",
    "servo_speed = 0.66 # in/s\n",
    "servo_force = 333.0 # lbs\n",
    "\n",
    "bps = []\n",
    "brake_angles = []\n",
    "brake_distances = []\n",
    "las = []\n",
    "time = 0.0\n",
    "times = []\n",
    "torques = []\n",
    "bpfs = []\n",
    "dt = 0.1\n",
    "while time < 1.0:\n",
    "    times.append(time)\n",
    "    # get the intersection point of the servo and lever short arm\n",
    "    servo = ((servo_mount[0], servo_mount[1], servo_length))\n",
    "    lever_short_arm = (lever_mount[0], lever_mount[1], lever_short_arm_length)\n",
    "    p_intersections = circle_circle_intersection(servo, lever_short_arm)\n",
    "    # print(\"potential intersections: \", p_intersections)\n",
    "\n",
    "    lever_short_arm_point = ()\n",
    "    if p_intersections[0][1] > 0:\n",
    "        lever_short_arm_point = p_intersections[0]\n",
    "    elif p_intersections[1][1] > 0:\n",
    "        lever_short_arm_point = p_intersections[1]\n",
    "    else:\n",
    "        print(\"neither intersection is viable...\")\n",
    "        continue\n",
    "\n",
    "    # get the angle from the lever pivot to the lever short arm\n",
    "    lever_pivot_to_short_arm = sympy.Line(lever_mount, lever_short_arm_point)\n",
    "    lever_short_arm_angle = math.atan2(lever_short_arm_point[1], lever_short_arm_point[0])\n",
    "    \n",
    "    lever_mount_to_short_arm = np.array(lever_short_arm_point) - np.array(lever_mount)\n",
    "    servo_mount_to_short_arm = np.array(lever_short_arm_point) - np.array(servo_mount)\n",
    "    servo_mount_to_short_arm_uv = servo_mount_to_short_arm / np.linalg.norm(servo_mount_to_short_arm)\n",
    "    # print(\"servo_mount_to_short_arm: \", servo_mount_to_short_arm)\n",
    "    lever_torque_from_servo = servo_force * lever_mount_to_short_arm[0]*servo_mount_to_short_arm_uv[1] - servo_force * lever_mount_to_short_arm[1]*servo_mount_to_short_arm_uv[0]\n",
    "    # print(\"lever_torque_from_servo: \", lever_torque_from_servo, \" in-lbs\")\n",
    "    # print(\"lever_short_arm_angle: \", lever_short_arm_angle)\n",
    "    # print(\"lever long arm force: \", lever_torque_from_servo / lever_long_arm_length, \" lbs\")\n",
    "\n",
    "    # get the angle of the lever long arm\n",
    "    lever_long_arm_angle = lever_short_arm_angle + lever_offset_angle\n",
    "    # print(\"lever_long_arm_angle: \", lever_long_arm_angle)\n",
    "    # get the maximum exension distance of the lever long arm\n",
    "    lever_long_arm_point = (lever_long_arm_length * math.cos(lever_long_arm_angle), lever_long_arm_length * math.sin(lever_long_arm_angle))\n",
    "    # print(\"lever_long_arm_max_point: \", lever_long_arm_point)\n",
    "    las.append(lever_long_arm_angle)\n",
    "    torques.append(lever_torque_from_servo)\n",
    "\n",
    "    # get the intersection point with the brake pedal\n",
    "    lever_long_arm_I_brake = circle_line_intersection((brake_mount[0], brake_mount[1], brake_length), (lever_mount[0], lever_mount[1], lever_long_arm_point[0], lever_long_arm_point[1]))\n",
    "    # print(\"brake pedal / lever long arm intersection: \", lever_long_arm_I_brake)\n",
    "    force_on_brake_pedal = lever_torque_from_servo / np.linalg.norm(np.array(lever_long_arm_I_brake))\n",
    "    # print(\"force on brake pedal: \", force_on_brake_pedal)\n",
    "    bpfs.append(force_on_brake_pedal)\n",
    "    \n",
    "    brake_angle = math.atan2(lever_long_arm_I_brake[1]-brake_mount[1], lever_long_arm_I_brake[0]-brake_mount[0])\n",
    "    # print(\"brake angle: \", math.degrees(brake_angle))\n",
    "    brake_angles.append(brake_angle)\n",
    "    \n",
    "    brake_distance = (brake_angles[-1] - brake_angles[0]) * brake_length\n",
    "    # print(\"brake distance: \", brake_distance)\n",
    "    brake_distances.append(brake_distance)\n",
    "    \n",
    "    \n",
    "    # import matplotlib.pyplot as plt\n",
    "\n",
    "    # # plot the servo\n",
    "    # plt.plot([servo_mount[0], lever_short_arm_point[0]], [servo_mount[1], lever_short_arm_point[1]], 'k')\n",
    "    # plt.plot(servo_mount[0], servo_mount[1], 'ko')\n",
    "\n",
    "    # # plot the lever\n",
    "    # plt.plot([lever_mount[0], lever_short_arm_point[0]], [lever_mount[1], lever_short_arm_point[1]], 'r')\n",
    "    # plt.plot([lever_mount[0], lever_long_arm_point[0]], [lever_mount[1], lever_long_arm_point[1]], 'r')\n",
    "    # plt.plot(lever_mount[0], lever_mount[1], 'ro')\n",
    "    # plt.plot(lever_short_arm_point[0], lever_short_arm_point[1], 'ro')\n",
    "    # plt.plot(lever_long_arm_point[0], lever_long_arm_point[1], 'ro')\n",
    "    # # plot the brake pedal\n",
    "    # plt.plot([brake_mount[0], lever_long_arm_I_brake[0]], [brake_mount[1], lever_long_arm_I_brake[1]], 'g')\n",
    "    # plt.plot(brake_mount[0], brake_mount[1], 'go')\n",
    "    # plt.plot(lever_long_arm_I_brake[0], lever_long_arm_I_brake[1], 'go')\n",
    "\n",
    "    # plt.grid()\n",
    "    # plt.show()\n",
    "    \n",
    "    time += dt\n",
    "    servo_length += servo_speed * dt\n",
    "    \n",
    "dbps = []\n",
    "for bd in range(0,len(brake_distances)):\n",
    "    dbps.append(np.linalg.norm(np.array((brake_distances[bd]) - np.array(brake_distances[0]))))\n",
    "\n",
    "\n",
    "plt.plot(times, dbps)\n",
    "plt.xlabel(\"Time (s)\")\n",
    "plt.ylabel(\"Brake Distance (in)\")\n",
    "\n",
    "plt.grid()\n",
    "plt.show()\n",
    "\n",
    "b_speeds = []\n",
    "for bd in range(1,len(dbps)):\n",
    "    b_speeds.append((dbps[bd] - dbps[bd-1])/dt)\n",
    "b_speeds.append(b_speeds[-1])\n",
    "\n",
    "plt.plot(times, b_speeds)\n",
    "plt.xlabel(\"Time (s)\")\n",
    "plt.ylabel(\"Brake Speed (in/s)\")\n",
    "\n",
    "plt.grid()\n",
    "plt.show()\n",
    "\n",
    "plt.plot(times, torques)\n",
    "plt.xlabel(\"Time (s)\")\n",
    "plt.ylabel(\"Torque on Lever (in-lbs)\")\n",
    "\n",
    "plt.grid()\n",
    "plt.show()\n",
    "\n",
    "plt.plot(times, bpfs)\n",
    "plt.xlabel(\"Time (s)\")\n",
    "plt.ylabel(\"Force on brake pedal (lbs)\")\n",
    "\n",
    "plt.grid()\n",
    "plt.show()\n"
   ]
  },
  {
   "cell_type": "code",
   "execution_count": 205,
   "metadata": {},
   "outputs": [
    {
     "data": {
      "image/png": "[encoded data removed]",
      "text/plain": [
       "<Figure size 432x288 with 1 Axes>"
      ]
     },
     "metadata": {
      "needs_background": "light"
     },
     "output_type": "display_data"
    },
    {
     "data": {
      "image/png": "[encoded data removed]",
      "text/plain": [
       "<Figure size 432x288 with 1 Axes>"
      ]
     },
     "metadata": {
      "needs_background": "light"
     },
     "output_type": "display_data"
    }
   ],
   "source": [
    "plt.plot(times, bps)\n",
    "plt.grid()\n",
    "plt.show()\n",
    "\n",
    "plt.plot(times, las)\n",
    "plt.grid()\n",
    "plt.show()"
   ]
  }
 ],
 "metadata": {
  "kernelspec": {
   "display_name": "Python 3",
   "language": "python",
   "name": "python3"
  },
  "language_info": {
   "codemirror_mode": {
    "name": "ipython",
    "version": 3
   },
   "file_extension": ".py",
   "mimetype": "text/x-python",
   "name": "python",
   "nbconvert_exporter": "python",
   "pygments_lexer": "ipython3",
   "version": "3.9.0 (tags/v3.9.0:9cf6752, Oct  5 2020, 15:34:40) [MSC v.1927 64 bit (AMD64)]"
  },
  "orig_nbformat": 4,
  "vscode": {
   "interpreter": {
    "hash": "4123b181f2a2bd303452af20202f60170947dc0b244cf9ea4f433e7f6fd51858"
   }
  }
 },
 "nbformat": 4,
 "nbformat_minor": 2
}
