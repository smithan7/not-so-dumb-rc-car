{
 "cells": [
  {
   "cell_type": "code",
   "execution_count": 1,
   "metadata": {},
   "outputs": [],
   "source": [
    "import numpy as np\n",
    "import math\n",
    "import matplotlib.pyplot as plt\n"
   ]
  },
  {
   "cell_type": "code",
   "execution_count": 2,
   "metadata": {},
   "outputs": [],
   "source": [
    "# tree search to find the best path - start at current location and the reward is distance around the track in a given time\n",
    "\n",
    "# control actions\n",
    "# accelerate +/- 1 m/s^2\n",
    "# turn wheels 5 degrees\n",
    "\n",
    "# node dies if it gets more than 4.0 meters from the center of the road"
   ]
  },
  {
   "cell_type": "code",
   "execution_count": 31,
   "metadata": {},
   "outputs": [
    {
     "data": {
      "text/plain": [
       "(-35.63154811025878,\n",
       " 97.58573540983048,\n",
       " -45.234560723170915,\n",
       " 203.81763723989775)"
      ]
     },
     "execution_count": 31,
     "metadata": {},
     "output_type": "execute_result"
    },
    {
     "data": {
      "image/png": "[encoded data removed]",
      "text/plain": [
       "<Figure size 432x288 with 1 Axes>"
      ]
     },
     "metadata": {
      "needs_background": "light"
     },
     "output_type": "display_data"
    }
   ],
   "source": [
    "class CarParam:\n",
    "    max_steer = math.radians(30)\n",
    "    max_speed = 30.0\n",
    "    accel_step = 0.1\n",
    "    steer_step = math.radians(5)\n",
    "    length = 2.0\n",
    "    track_half_width = 5.0\n",
    "    max_dist_from_centerline = 4.0\n",
    "    \n",
    "    def __init__(self):\n",
    "        pass\n",
    "\n",
    "class State:\n",
    "    X = np.array([0, # x\n",
    "                  0, # y\n",
    "                  0, # v\n",
    "                  0, # steering\n",
    "                  0]) # heading\n",
    "    \n",
    "    \n",
    "    def __init__(self, X):\n",
    "        self.X = X\n",
    "        \n",
    "    def propagate(self, u_lin, u_steer, dt, car):\n",
    "        Y = self.X.copy()\n",
    "        Y[2] += u_lin * dt# update speed\n",
    "        Y[2] = min(car.max_speed, max(0, Y[2]))\n",
    "        Y[3] += u_steer * dt# update steering\n",
    "        Y[3] = min(car.max_steer, max(-car.max_steer, Y[3]))\n",
    "        Y[4] += Y[2]/car.length * math.tan(Y[3]) * dt # heading\n",
    "        Y[0] += Y[2] * math.cos(Y[4]) * dt # x position\n",
    "        Y[1] += Y[2] * math.sin(Y[4]) * dt # y position\n",
    "        return Y\n",
    "    \n",
    "    def evaluate(self, xm1, map):\n",
    "        # check if total acceleration is acceptable\n",
    "        \n",
    "        \"\"\"Check if we are still on the track\"\"\"\n",
    "        # find closest edge on track \n",
    "        # get distance\n",
    "        \n",
    "        \n",
    "        \n",
    "        \n",
    "    \n",
    "\n",
    "car = CarParam()\n",
    "\n",
    "x = State(np.array([0.0, #x\n",
    "                    0.0, #y\n",
    "                    1.0, #v\n",
    "                    math.radians(20.0), #steering\n",
    "                    0.0])) # heading\n",
    "\n",
    "u_lin = 0.1\n",
    "u_steer = math.radians(5.0)\n",
    "\n",
    "pos = []\n",
    "pos.append([x.X[0], x.X[1]])\n",
    "for i in range(5000):\n",
    "    if i % 250 == 0:\n",
    "        u_steer *= -1\n",
    "    x = State(x.propagate(u_lin, u_steer, 0.1, car))\n",
    "    pos.append([x.X[0], x.X[1]])\n",
    "    \n",
    "plt.plot(np.array(pos)[:,0], np.array(pos)[:,1], 'r')\n",
    "plt.grid()\n",
    "plt.axis('equal')"
   ]
  }
 ],
 "metadata": {
  "kernelspec": {
   "display_name": "Python 3",
   "language": "python",
   "name": "python3"
  },
  "language_info": {
   "codemirror_mode": {
    "name": "ipython",
    "version": 3
   },
   "file_extension": ".py",
   "mimetype": "text/x-python",
   "name": "python",
   "nbconvert_exporter": "python",
   "pygments_lexer": "ipython3",
   "version": "3.9.0"
  },
  "orig_nbformat": 4,
  "vscode": {
   "interpreter": {
    "hash": "4123b181f2a2bd303452af20202f60170947dc0b244cf9ea4f433e7f6fd51858"
   }
  }
 },
 "nbformat": 4,
 "nbformat_minor": 2
}
