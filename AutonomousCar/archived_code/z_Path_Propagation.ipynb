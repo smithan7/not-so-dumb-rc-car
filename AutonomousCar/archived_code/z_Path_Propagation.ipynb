{
 "cells": [
  {
   "cell_type": "markdown",
   "metadata": {},
   "source": [
    "# Kinematic Car\n",
    "\n",
    "kinematic model of a car"
   ]
  },
  {
   "cell_type": "code",
   "execution_count": 1,
   "metadata": {},
   "outputs": [],
   "source": [
    "import logging\n",
    "import sys\n",
    "import os\n",
    "import math\n",
    "import matplotlib.pyplot as plt\n",
    "import numpy as np"
   ]
  },
  {
   "cell_type": "code",
   "execution_count": 2,
   "metadata": {
    "scrolled": true
   },
   "outputs": [
    {
     "data": {
      "text/plain": [
       "[<matplotlib.lines.Line2D at 0x1a976022988>]"
      ]
     },
     "execution_count": 2,
     "metadata": {},
     "output_type": "execute_result"
    },
    {
     "data": {
      "image/png": "[encoded data removed]",
      "text/plain": [
       "<Figure size 432x288 with 1 Axes>"
      ]
     },
     "metadata": {
      "needs_background": "light"
     },
     "output_type": "display_data"
    }
   ],
   "source": [
    "# make the path\n",
    "xs = np.linspace(0.0,800.0,50)\n",
    "ys = 2.0*np.sin(xs/80.0)\n",
    "pnts = np.vstack((xs,ys))\n",
    "\n",
    "car = pnts[:,6] + np.array((-3.5,0.5))\n",
    "\n",
    "plt.plot(xs,ys)\n",
    "plt.grid()\n",
    "plt.axis([0, 800, -25, 25])\n",
    "plt.plot(car[0], car[1], 'ro')"
   ]
  },
  {
   "cell_type": "code",
   "execution_count": 3,
   "metadata": {},
   "outputs": [],
   "source": [
    "# make path segment class\n",
    "\n",
    "class PathSegment:\n",
    "    us = np.zeros((2,1)) # unit vector in global frame\n",
    "    l = 0.0 # length in meters\n",
    "    speed = 20.0 # speed in meters/sec 2.0 m/s ~= 4.5 mph\n",
    "    grad = 0.0 # gradient total, used to get max speed\n",
    "    p0 = np.zeros((2,1)) # starting point\n",
    "    dt = 0.0 # time to cross it\n",
    "    carrot = np.zeros((2,1))\n",
    "    dist = 0.0\n",
    "    \n",
    "    def __init__(self, index, pnts):\n",
    "        self.index = index\n",
    "        self.p0 = pnts[:,index]\n",
    "        p1 = pnts[:,index+1]\n",
    "        self.l = np.linalg.norm(p1-self.p0)\n",
    "        self.us = (p1 - self.p0) / self.l\n",
    "        self.dt = self.l / self.speed\n",
    "        self.carrot = pnts[:,index]\n",
    "        \n",
    "    def cout(self):\n",
    "        print(\"****************\")\n",
    "        print(\"index: \", self.index)\n",
    "        print(\"p0: \", self.p0)\n",
    "        print(\"carrot: \", self.carrot)\n",
    "        print(\"us: \", self.us)\n",
    "        print(\"dist: \", dist)\n",
    "        print(\"l: \", self.l)\n",
    "        print(\"speed: \", self.speed)\n",
    "        print(\"dt: \", self.dt)\n",
    "        print(\"gT: \", self.grad)\n",
    "        \n",
    "    def computeGradient(self, pm1, pp1):\n",
    "        if pm1 == None:\n",
    "            # starting point\n",
    "            self.grad = np.linalg.norm(pp1.us - self.us)\n",
    "            #print(\"Starting Grad[\", self.index, \"]: \", self.grad)\n",
    "            self.speed = self.speed / 2.0\n",
    "        elif pp1 == None:\n",
    "            # ending point - goal should be to have V = 0.0\n",
    "            self.grad = np.linalg.norm(self.us - pm1.us)\n",
    "            self.speed = self.speed / 2.0\n",
    "            #print(\"Ending Grad[\", self.index, \"]: \", self.grad)\n",
    "        else:\n",
    "            # mid point\n",
    "            self.grad = np.linalg.norm(pp1.us - pm1.us)\n",
    "            self.speed / 2.0\n",
    "            #print(\"Mid Grad[\", self.index, \"]: \", self.grad)\n",
    "        \n",
    "        # set speed\n",
    "        self.speed = min(self.speed, self.speed / self.grad)\n",
    "        self.dt = self.l / self.speed\n",
    "        #print(\"Speed[\",i,\"]: \", self.speed)        \n",
    "    \n",
    "    def computeSpeed(self, sm1, sp1):\n",
    "        flag = 0\n",
    "        # make sure I am not deccelerating too much\n",
    "        if self.speed > sp1 * 1.1:\n",
    "            self.speed = sp1 * 1.1\n",
    "            #print(\"Speed[\",i,\"]: \", self.speed)\n",
    "            flag = 1.0\n",
    "        # make sure I am not accelerating too\n",
    "        if self.speed > sm1 * 1.5:\n",
    "            self.speed = sm1 * 1.5\n",
    "            flag = 1.0\n",
    "        # set time to cross\n",
    "        self.dt = self.l / self.speed\n",
    "        #print(\"speed[\",i,\"]: \", self.speed)\n",
    "            \n",
    "        return flag\n",
    "    \n",
    "    def propagateCarrot(self, dt):\n",
    "        # move carrot forward dt\n",
    "        step = dt*self.speed\n",
    "        self.dist += step\n",
    "        if self.dist > self.l:\n",
    "            # carrot is on next segment, calc how far!\n",
    "            # print(\"self.dist - self.l: \", self.dist - self.l)\n",
    "            dt = (self.dist - self.l) / self.speed\n",
    "            return [np.zeros((2,1)), dt]\n",
    "        # carrot is on this segment\n",
    "        self.carrot = self.p0 + self.dist * self.us\n",
    "        return [self.carrot, 0]\n",
    "        \n",
    "        \n",
    "            "
   ]
  },
  {
   "cell_type": "code",
   "execution_count": 4,
   "metadata": {},
   "outputs": [
    {
     "name": "stdout",
     "output_type": "stream",
     "text": [
      "N Path Segments:  49\n"
     ]
    }
   ],
   "source": [
    "# make path\n",
    "path = []\n",
    "for i in range(pnts.shape[1]-1):\n",
    "    p = PathSegment(i, pnts)\n",
    "    #p.cout()\n",
    "    path.append(p)\n",
    "    \n",
    "print(\"N Path Segments: \", len(path))\n",
    "\n",
    "# get gradient of direction change across path\n",
    "path[0].computeGradient(None, path[1])\n",
    "path[-1].computeGradient(path[-2], None)\n",
    "for i in range(1,len(path)-1):\n",
    "    path[i].computeGradient(path[i-1], path[i+1])\n",
    "\n",
    "# iterative process of refining path speed\n",
    "# you shouldn't go faster than the next path will want you to\n",
    "flag = 1\n",
    "while flag > 0:\n",
    "    # iterate over each segement, if the next segment is moving slower than this one by X, slow down\n",
    "    flag = 0\n",
    "    for i in range(1,len(path)-1):\n",
    "        flag += path[i].computeSpeed(path[i-1].speed, path[i+1].speed)"
   ]
  },
  {
   "cell_type": "code",
   "execution_count": 5,
   "metadata": {},
   "outputs": [
    {
     "data": {
      "image/png": "[encoded data removed]",
      "text/plain": [
       "<Figure size 432x288 with 1 Axes>"
      ]
     },
     "metadata": {
      "needs_background": "light"
     },
     "output_type": "display_data"
    }
   ],
   "source": [
    "# plot speeds\n",
    "speeds = []\n",
    "for p in path:\n",
    "    speeds.append(p.speed)\n",
    "    \n",
    "plt.plot(speeds,'b.')\n",
    "plt.grid()\n",
    "plt.ylabel('Speed (m/s)')\n",
    "plt.xlabel('Index (#)')\n",
    "plt.show()"
   ]
  },
  {
   "cell_type": "code",
   "execution_count": 6,
   "metadata": {},
   "outputs": [
    {
     "data": {
      "image/png": "[encoded data removed]",
      "text/plain": [
       "<Figure size 432x288 with 1 Axes>"
      ]
     },
     "metadata": {
      "needs_background": "light"
     },
     "output_type": "display_data"
    }
   ],
   "source": [
    "# test propagating the carrot\n",
    "path_index = 0\n",
    "carrots = [path[0].p0]\n",
    "while path_index < len(path):\n",
    "    #print(\"path_index: \", path_index)\n",
    "    dt = 1.0/10.0\n",
    "    while dt > 0 and path_index < len(path):\n",
    "        #print(\"dt_0: \", dt)\n",
    "        [carrot, dt] = path[path_index].propagateCarrot(dt)\n",
    "        #print(\"dt_1: \", dt)\n",
    "        if dt == 0:\n",
    "            # its on that segment!\n",
    "            carrots.append(carrot)\n",
    "        else:\n",
    "            path_index += 1\n",
    "\n",
    "#print(\"carrots: \", carrots)\n",
    "for carrot in carrots:\n",
    "    plt.plot(carrot[0],carrot[1],'r.')"
   ]
  },
  {
   "cell_type": "code",
   "execution_count": 7,
   "metadata": {},
   "outputs": [],
   "source": [
    "sys.path.insert(0, os.path.abspath('./..'))"
   ]
  },
  {
   "cell_type": "code",
   "execution_count": 8,
   "metadata": {},
   "outputs": [],
   "source": [
    "import jupylet.color\n",
    "\n",
    "from jupylet.app import App\n",
    "from jupylet.state import State\n",
    "from jupylet.label import Label\n",
    "from jupylet.sprite import Sprite"
   ]
  },
  {
   "cell_type": "code",
   "execution_count": 9,
   "metadata": {},
   "outputs": [],
   "source": [
    "app = App(width=800, height=800)#log_level=logging.INFO)"
   ]
  },
  {
   "cell_type": "code",
   "execution_count": 10,
   "metadata": {},
   "outputs": [],
   "source": [
    "background = '#3e32a2'\n",
    "foreground = '#7c71da'\n",
    "\n",
    "body_im = np.ones((20, 120)) * 255\n",
    "wheel_im = np.ones((15,40)) * 255\n",
    "a2 = np.ones((app.height * 9 // 10, app.width * 9 // 10, 3)) * 255\n",
    "course_im = np.ones((2,300))*255\n",
    "\n",
    "body = Sprite(body_im, y=app.height/2, x=app.width/2)\n",
    "f_wheel = Sprite(wheel_im, y=app.height/2, x=app.width/2+60, color=foreground)\n",
    "r_wheel = Sprite(wheel_im, y=app.height/2, x=app.width/2-60, color=foreground)\n",
    "course = Sprite(course_im, y=600,x=400,color='white')\n",
    "field = Sprite(a2, y=app.height/2, x=app.width/2, color=background)"
   ]
  },
  {
   "cell_type": "code",
   "execution_count": 11,
   "metadata": {},
   "outputs": [],
   "source": [
    "speed = Label(\n",
    "    '0', font_size=22, color=foreground, \n",
    "    x=100, y=20,\n",
    "    anchor_y='center', anchor_x='left'\n",
    ")\n",
    "\n",
    "steering_angle = Label(\n",
    "    '0', font_size=22, color=foreground, \n",
    "    x=100, y=44, \n",
    "    anchor_y='center', anchor_x='left'\n",
    ")"
   ]
  },
  {
   "cell_type": "code",
   "execution_count": 12,
   "metadata": {},
   "outputs": [],
   "source": [
    "@app.event\n",
    "def render(ct, dt):\n",
    "    \n",
    "    app.window.clear(color=foreground)\n",
    "    field.draw()\n",
    "    course.draw()\n",
    "    body.draw()\n",
    "    f_wheel.draw()\n",
    "    r_wheel.draw()\n",
    "    speed.draw()\n",
    "    steering_angle.draw()"
   ]
  },
  {
   "cell_type": "code",
   "execution_count": 13,
   "metadata": {},
   "outputs": [],
   "source": [
    "state = State( \n",
    "    x = 0.0,\n",
    "    y = app.height / 2,\n",
    "    \n",
    "    body_angle = 0.0,\n",
    "    steering_angle = 0.0,\n",
    "    \n",
    "    l = 50.0,\n",
    "    speed = 0.0,\n",
    "    \n",
    "    turn_left = False,\n",
    "    turn_right = False,\n",
    "\n",
    "    speed_up = False,\n",
    "    slow_down = False,\n",
    "    \n",
    "    path_index = 0\n",
    ")"
   ]
  },
  {
   "cell_type": "code",
   "execution_count": 14,
   "metadata": {},
   "outputs": [],
   "source": [
    "@app.event\n",
    "def key_event(key, action, modifiers):\n",
    "        \n",
    "    keys = app.window.keys\n",
    "    \n",
    "    if action == keys.ACTION_PRESS:\n",
    "        \n",
    "        if key == keys.LEFT:\n",
    "            state.turn_left = True\n",
    "\n",
    "        if key == keys.RIGHT:\n",
    "            state.turn_right = True\n",
    "\n",
    "        if key == keys.UP:\n",
    "            state.speed_up = True\n",
    "\n",
    "        if key == keys.DOWN:\n",
    "            state.slow_down = True\n",
    "\n",
    "    if action == keys.ACTION_RELEASE:\n",
    "        if key == keys.LEFT:\n",
    "            state.turn_left = False\n",
    "\n",
    "        if key == keys.RIGHT:\n",
    "            state.turn_right = False\n",
    "\n",
    "        if key == keys.UP:\n",
    "            state.speed_up = False\n",
    "\n",
    "        if key == keys.DOWN:\n",
    "            state.slow_down = False"
   ]
  },
  {
   "cell_type": "code",
   "execution_count": 15,
   "metadata": {
    "scrolled": true
   },
   "outputs": [],
   "source": [
    "@app.run_me_every(1/10)\n",
    "def update_pads(ct, dt):\n",
    "        \n",
    "#     if state.turn_right:\n",
    "#         state.steering_angle = min(3.14159/3.0, state.steering_angle + 0.05)\n",
    "        \n",
    "#     if state.turn_left:\n",
    "#         state.steering_angle = max(-3.14159/3.0, state.steering_angle - 0.05)\n",
    "        \n",
    "#     if state.speed_up:\n",
    "#         state.speed = min(50.0, state.speed + 1.0)\n",
    "        \n",
    "#     if state.slow_down:\n",
    "#         state.speed = max(0.0, state.speed - 1.0)\n",
    "   \n",
    "    \n",
    "    if state.path_index > len(carrots)-1:\n",
    "        state.speed = 0.0\n",
    "        state.x = 0.0\n",
    "        statey = app.height / 2.0\n",
    "        state.path_index = 0\n",
    "    else:\n",
    "        # get carrot\n",
    "        carrot = carrots[state.path_index]\n",
    "        state.path_index += 1\n",
    "        \n",
    "        # calculate speed\n",
    "        dx = carrot[0] - state.x\n",
    "        dy = 0.0#carrot[1] - state.y\n",
    "\n",
    "        d = np.sqrt(dx**2 + dy**2)\n",
    "\n",
    "        state.speed = state.speed + 0.1*(dx - 5)\n",
    "        state.speed = max(0.0, state.speed)\n",
    "        state.speed = min(50.0, state.speed)\n",
    "\n",
    "        print(\"d: \", d)\n",
    "        print(\"speed: \", state.speed)\n",
    "        print(\"x: \", state.x, ' of ', app.width)\n",
    "        print(\"y: \", state.y, ' of ', app.height)\n",
    "\n",
    "        # calculate steering angle\n",
    "\n",
    "    \n",
    "    \n",
    "    \n",
    "    vx = state.speed * math.cos(state.body_angle)\n",
    "    vy = state.speed * math.sin(state.body_angle)\n",
    "    vt = state.speed / state.l * math.tan(state.steering_angle)\n",
    "    \n",
    "    state.x += vx * dt\n",
    "    state.y += vy * dt\n",
    "    state.body_angle -= vt * dt\n",
    "    \n",
    "    \n",
    "    body.x = state.x\n",
    "    body.y = state.y\n",
    "    body.angle = state.body_angle*180.0/3.14159\n",
    "    \n",
    "    r_wheel.x = body.x - 50.0*math.cos(state.body_angle)\n",
    "    r_wheel.y = body.y - 50.0*math.sin(state.body_angle)\n",
    "    r_wheel.angle = body.angle\n",
    "    f_wheel.x = body.x + 50.0*math.cos(state.body_angle)\n",
    "    f_wheel.y = body.y + 50.0*math.sin(state.body_angle)\n",
    "    f_wheel.angle = body.angle - state.steering_angle*180/3.14519\n",
    "    \n",
    "    body.clip_position(app.width, app.height)\n",
    "    \n",
    "    speed.text = str(vt*dt)\n",
    "    steering_angle.text = str(state.steering_angle*180/3.14159)\n",
    "    speed.color = 'white'\n",
    "    steering_angle.color = 'white'\n",
    "    "
   ]
  },
  {
   "cell_type": "code",
   "execution_count": 16,
   "metadata": {},
   "outputs": [],
   "source": [
    "@app.run_me\n",
    "def highlights(ct, dt):\n",
    "    while True:\n",
    "        ct, dt = yield 1/24\n",
    "        speed.color = 'white'\n",
    "        steering_angle.color = 'white'\n",
    "        "
   ]
  },
  {
   "cell_type": "code",
   "execution_count": 17,
   "metadata": {
    "scrolled": false
   },
   "outputs": [
    {
     "data": {
      "application/vnd.jupyter.widget-view+json": {
       "model_id": "e09896472da446898aef8c3d4e4cc786",
       "version_major": 2,
       "version_minor": 0
      },
      "text/plain": [
       "Image(value=b'\\xff\\xd8\\xff\\xe0\\x00\\x10JFIF\\x00\\x01\\x01\\x00\\x00\\x01\\x00\\x01\\x00\\x00\\xff\\xdb\\x00C\\x00\\x08\\x06\\x0…"
      ]
     },
     "metadata": {},
     "output_type": "display_data"
    }
   ],
   "source": [
    "app.run()"
   ]
  }
 ],
 "metadata": {
  "kernelspec": {
   "display_name": "Python 3",
   "language": "python",
   "name": "python3"
  },
  "language_info": {
   "codemirror_mode": {
    "name": "ipython",
    "version": 3
   },
   "file_extension": ".py",
   "mimetype": "text/x-python",
   "name": "python",
   "nbconvert_exporter": "python",
   "pygments_lexer": "ipython3",
   "version": "3.7.6"
  },
  "widgets": {
   "application/vnd.jupyter.widget-state+json": {
    "state": {
     "7be0ecb0937c400a88ee5c525a899ee7": {
      "model_module": "ipyevents",
      "model_module_version": "1.7.1",
      "model_name": "EventModel",
      "state": {
       "_supported_key_events": [
        "keydown",
        "keyup"
       ],
       "_supported_mouse_events": [
        "click",
        "auxclick",
        "dblclick",
        "mouseenter",
        "mouseleave",
        "mousedown",
        "mouseup",
        "mousemove",
        "wheel",
        "contextmenu",
        "dragstart",
        "drag",
        "dragend",
        "dragenter",
        "dragover",
        "dragleave",
        "drop"
       ],
       "_view_module": "@jupyter-widgets/controls",
       "_view_module_version": "1.5.0",
       "source": "IPY_MODEL_f1482eef080c4ff0aa21e68747d8bd6c",
       "watched_events": [
        "keydown",
        "keyup",
        "click",
        "auxclick",
        "dblclick",
        "mouseenter",
        "mouseleave",
        "mousedown",
        "mouseup",
        "mousemove",
        "wheel",
        "contextmenu",
        "dragstart",
        "drag",
        "dragend",
        "dragenter",
        "dragover",
        "dragleave",
        "drop"
       ],
       "xy_coordinate_system": ""
      }
     },
     "cab7dfa426764cb0b960bfea7e9f815a": {
      "model_module": "@jupyter-widgets/base",
      "model_module_version": "1.2.0",
      "model_name": "LayoutModel",
      "state": {}
     },
     "f1482eef080c4ff0aa21e68747d8bd6c": {
      "buffers": [
       {
        "data": "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",
        "encoding": "base64",
        "path": [
         "value"
        ]
       }
      ],
      "model_module": "@jupyter-widgets/controls",
      "model_module_version": "1.5.0",
      "model_name": "ImageModel",
      "state": {
       "_view_count": 1,
       "format": "JPEG",
       "layout": "IPY_MODEL_cab7dfa426764cb0b960bfea7e9f815a",
       "value": {}
      }
     }
    },
    "version_major": 2,
    "version_minor": 0
   }
  }
 },
 "nbformat": 4,
 "nbformat_minor": 2
}
