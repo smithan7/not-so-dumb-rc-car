{
 "cells": [
  {
   "cell_type": "code",
   "execution_count": 24,
   "metadata": {},
   "outputs": [],
   "source": [
    "import numpy as np\n",
    "import matplotlib.pyplot as plt\n",
    "import math"
   ]
  },
  {
   "cell_type": "code",
   "execution_count": 25,
   "metadata": {},
   "outputs": [],
   "source": [
    "class Path_Segment:\n",
    "    def __init__(self, pa, pb, tp):\n",
    "        if tp == \"circle\":\n",
    "            # pa = center of circle\n",
    "            # pb = [theta_0, theta_1, radius]\n",
    "            self.p_c = pa\n",
    "            self.theta_0 = pb[0]\n",
    "            a_d = pb[1] - p[0] # angular distance\n",
    "            self.t2theta = a_d\n",
    "            D = a_d * pb[2] # distance in meters\n",
    "            self.radius = pb[2]\n",
    "            self.d2t = 1.0 / D \n",
    "        \n",
    "        elif tp == \"line\":\n",
    "            self.p0 = pa\n",
    "            diff = pb - pa\n",
    "            self.D = np.linalg.norm(diff)\n",
    "            self.delta == diff / D\n",
    "            self.d2t = 1.0/D\n",
    "            self.tp = tp\n",
    "        else:\n",
    "            print(\"Path_Segment: __init__: Bad Type: \", tp)\n",
    "    \n",
    "    def step(self, dist):\n",
    "        if self.tp == \"circle\":\n",
    "            return self.step_circle(dist)\n",
    "        elif self.tp == \"line\":\n",
    "            return self.step_line(dist)\n",
    "        else:\n",
    "            print(\"Path_Segment: Step: Bad Type: \", self.tp)\n",
    "    \n",
    "    def step_circle(self, dist):\n",
    "        # distance here is in meters, need to convert to t\n",
    "        self.t += dist * self.d2t\n",
    "        if self.t > 1.0:\n",
    "            # off segment - treat as a line!\n",
    "            ex_d = (self.t - 1.0) / self.d2t\n",
    "            return [False, ex_d]\n",
    "        else:\n",
    "            # on arc, step along arc - get angular position\n",
    "            ang = self.theta_0 + self.t * self.t2theta\n",
    "            # find point on edge of circle\n",
    "            p_t = np.array([self.p_c + self.r * math.cos(ang), self.p_c + self.r * math.sin(ang)])\n",
    "            return [True, p_t]\n",
    "        \n",
    "    def step_line(self, dist):\n",
    "        self.t += dist * self.d2t\n",
    "        if self.t > 1.0:\n",
    "            # off segment\n",
    "            ex_d = (self.t - 1.0) / self.d2t\n",
    "            return [False, ex_d]\n",
    "        else:\n",
    "            # still on segment, keep going!\n",
    "            p_t = self.p0 + self.t * self.delta\n",
    "            return [True, p_t]\n",
    "\n",
    "class Path:\n",
    "    path_index = 0\n",
    "    def __init__(self):\n",
    "        pass\n",
    "        \n",
    "        \n",
    "    def step(self, dist):\n",
    "        [success, pnt] = self.segments[self.path_index].step(dist)\n",
    "        if success:\n",
    "            return [True, pnt]\n",
    "        elif self.path_index + 1 < self.N_path_segments:\n",
    "            # can move onto the next segment, increment segment counter and try again\n",
    "            self.path_index += 1\n",
    "            self.step(dist)\n",
    "        else:\n",
    "            # reached end of path, kill it\n",
    "            return [False, -1]\n",
    "            \n",
    "            \n",
    "        \n",
    "        "
   ]
  },
  {
   "cell_type": "code",
   "execution_count": 26,
   "metadata": {},
   "outputs": [],
   "source": [
    "# useful functions\n",
    "def update_m_per_deg(latMid):\n",
    "    latMid = latMid * math.pi / 180.0\n",
    "    m_per_deg_lat = 111132.92 - 559.82*math.cos(2*latMid) + 1.175*math.cos(4*latMid) - 0.002*math.cos(6*latMid)\n",
    "    m_per_deg_lon = 111412.84*math.cos(latMid) - 93.5*math.cos(3*latMid) + 0.118*math.cos(5*latMid)\n",
    "    print(\"Updated meters per degree: \",[m_per_deg_lon, m_per_deg_lat])\n",
    "    return [m_per_deg_lat, m_per_deg_lon]\n",
    "    \n",
    "def latLonToXY(mean_lla, lla_p, m_per_deg):\n",
    "    # assumes ENU -> dLon -> x, dLat ->y\n",
    "    # A = [39.510099961976394, -119.79924744019958]\n",
    "    # B = [39.52450022763636, -119.83225271498078]\n",
    "    # Dist = 3.26 km per Google and 3257.53m per this, call it Google rounding...\n",
    "    dLon = lla_p[1] - mean_lla[1]\n",
    "    dLat = lla_p[0] - mean_lla[0]\n",
    "    dx = m_per_deg[1] * dLon\n",
    "    dy = m_per_deg[0] * dLat\n",
    "    return [dx,dy]\n",
    "\n",
    "def dist2d(self, diffs):\n",
    "    return np.linalg.norm([diffs])"
   ]
  },
  {
   "cell_type": "markdown",
   "metadata": {},
   "source": [
    "Steve's backyard:\n",
    "    1. North-East Corner of yard: 39.43967416004803, -119.78459796691637\n",
    "    2. North-West Corner of Yard: 39.43962877630515, -119.78397292268954\n",
    "    3. South-East Corner of Yard: 39.43898239857549, -119.78458728239967\n",
    "    4. South-West Corner of Yard: 39.43899477607771, -119.78402990677858\n",
    "        1. Add geo-fence points 5m inside of this\n",
    "        2. Add corner points 10m inside of that w/ 5 m radius\n",
    "            1. Goal is to be 10m from edge and 5 m from geo-fence"
   ]
  },
  {
   "cell_type": "code",
   "execution_count": 27,
   "metadata": {},
   "outputs": [
    {
     "name": "stdout",
     "output_type": "stream",
     "text": [
      "mean lla:  [  39.43932003 -119.78429702]\n",
      "Updated meters per degree:  [86088.13142758049, 111023.85109608833]\n"
     ]
    }
   ],
   "source": [
    "# NE, NW, SE, SW\n",
    "corners_lla = [[39.43967416004803, -119.78459796691637],\n",
    "               [39.43962877630515, -119.78397292268954],\n",
    "               [39.43898239857549, -119.78458728239967],\n",
    "               [39.43899477607771, -119.78402990677858]]\n",
    "corners_lla = np.asarray(corners_lla)\n",
    "mean_lla = np.mean(corners_lla, axis=0)\n",
    "print(\"mean lla: \", mean_lla)\n",
    "m_per_deg = update_m_per_deg(mean_lla[0])"
   ]
  },
  {
   "cell_type": "code",
   "execution_count": 28,
   "metadata": {},
   "outputs": [],
   "source": [
    "# convert to meters!\n",
    "corners_m = []\n",
    "for c in corners_lla:\n",
    "    corners_m.append(latLonToXY(mean_lla, c, m_per_deg))\n",
    "\n",
    "corners_m = np.asarray(corners_m)"
   ]
  },
  {
   "cell_type": "markdown",
   "metadata": {},
   "source": [
    "Now we need to set the geofence 5m insdie the boundary of each corner"
   ]
  },
  {
   "cell_type": "code",
   "execution_count": 29,
   "metadata": {},
   "outputs": [],
   "source": [
    "# add the geofence\n",
    "gf_d = 5.0 # distance from wall\n",
    "gf_pts = corners_m.copy()\n",
    "gf_pts[0,:] += [gf_d,-gf_d]\n",
    "gf_pts[1,:] += [-gf_d,-gf_d]\n",
    "gf_pts[2,:] += [gf_d,gf_d]\n",
    "gf_pts[3,:] += [-gf_d,gf_d]"
   ]
  },
  {
   "cell_type": "markdown",
   "metadata": {},
   "source": [
    "Now identify the corner points we're going to move around"
   ]
  },
  {
   "cell_type": "code",
   "execution_count": 33,
   "metadata": {},
   "outputs": [
    {
     "data": {
      "text/plain": [
       "array([[-10.90798386,  24.31713135],\n",
       "       [ 12.90090569,  19.27845344],\n",
       "       [ -9.98817378, -22.48489137],\n",
       "       [  7.99525194, -21.11069341]])"
      ]
     },
     "execution_count": 33,
     "metadata": {},
     "output_type": "execute_result"
    }
   ],
   "source": [
    "# make the centers of the circle we're going to drive around\n",
    "c_d = 10.0 # offset from the geofence\n",
    "c_pts = gf_pts.copy()\n",
    "c_pts[0,:] += [c_d,-c_d]\n",
    "c_pts[1,:] += [-c_d,-c_d]\n",
    "c_pts[2,:] += [c_d,c_d]\n",
    "c_pts[3,:] += [-c_d,c_d]\n",
    "c_pts"
   ]
  },
  {
   "cell_type": "markdown",
   "metadata": {},
   "source": [
    "Next we need to identify the outer tangential lines to the circles defined by c_pts and radius of 5m"
   ]
  },
  {
   "cell_type": "code",
   "execution_count": 34,
   "metadata": {},
   "outputs": [],
   "source": [
    "# first get distance between two circle centers\n",
    "pts = [0, 1]\n",
    "rs = [5,5]\n",
    "\n",
    "xs = [c_pts[pts[0],0], c_pts[pts[1],0]]\n",
    "ys = [c_pts[pts[0],1], c_pts[pts[1],1]]\n",
    "\n",
    "# if r[0] == r[1] there is a shortcut because the outer tangent lines are parallel and the distance between them is 2r\n",
    "if rs[0] == rs[1]:\n",
    "    # radii are equal!\n",
    "    # slope angle is:\n",
    "    theta = math.atan((ys[1]- ys[0])/(xs[1]-xs[0]))\n",
    "#     xs_i = [[xs[0]+rs[0]*math.sin(theta), xs[0]-rs[0]*math.sin(theta)],\n",
    "#             [xs[1]+rs[1]*math.sin(theta), xs[0]-rs[1]*math.sin(theta)]]\n",
    "#     ys_i = [[ys[0]+rs[0]*math.cos(theta), ys[0]-rs[0]*math.cos(theta)],\n",
    "#             [ys[1]+rs[1]*math.cos(theta), ys[0]-rs[1]*math.cos(theta)]]\n",
    "    ps_i = [[xs[0]-rs[0]*math.sin(theta), ys[0]+rs[0]*math.cos(theta)],\n",
    "            [xs[0]+rs[0]*math.sin(theta), ys[0]-rs[0]*math.cos(theta)],\n",
    "            [xs[1]-rs[1]*math.sin(theta), ys[1]+rs[1]*math.cos(theta)],\n",
    "            [xs[1]+rs[1]*math.sin(theta), ys[1]-rs[1]*math.cos(theta)]]\n",
    "    \n",
    "    # identify  the lines that are the outer outer tangent line using distance to the middle of the lines from the center\n",
    "    # line 1 := ps_i[0,:] -> ps_i[2,:]\n",
    "    # line 2 := ps_i[1,:] -> ps_i[3,:]\n",
    "    \n",
    "    # calculate angular position along each circle\n",
    "    # get parametric line equation of outer outer tanget\n",
    "    \n",
    "    \n",
    "\n",
    "ps_i = np.asarray(ps_i)\n",
    "\n",
    "    \n",
    "D = np.linalg.norm(c_pts[pts[0],:] - c_pts[pts[1],:])\n",
    "# the outer tangent lines intersection points is found using the radius of the two circles. This assumes r0 > r1\n",
    "\n"
   ]
  },
  {
   "cell_type": "code",
   "execution_count": 36,
   "metadata": {},
   "outputs": [
    {
     "data": {
      "image/png": "[encoded data removed]",
      "text/plain": [
       "<Figure size 900x600 with 1 Axes>"
      ]
     },
     "metadata": {
      "needs_background": "light"
     },
     "output_type": "display_data"
    }
   ],
   "source": [
    "plt.figure(dpi=150)\n",
    "# plot hard limits\n",
    "plt.plot([corners_m[0,0], corners_m[1,0]],[corners_m[0,1],corners_m[1,1]], 'r', label=\"Wall\")\n",
    "plt.plot([corners_m[1,0], corners_m[3,0]],[corners_m[1,1],corners_m[3,1]], 'r', label=\"_Wall\")\n",
    "plt.plot([corners_m[3,0], corners_m[2,0]],[corners_m[3,1],corners_m[2,1]], 'r', label=\"_Wall\")\n",
    "plt.plot([corners_m[2,0], corners_m[0,0]],[corners_m[2,1],corners_m[0,1]], 'r', label=\"_Wall\")\n",
    "\n",
    "plt.plot([gf_pts[0,0], gf_pts[1,0]],[gf_pts[0,1],gf_pts[1,1]], 'y', label=\"Geofence\")\n",
    "plt.plot([gf_pts[1,0], gf_pts[3,0]],[gf_pts[1,1],gf_pts[3,1]], 'y', label=\"_Geofence\")\n",
    "plt.plot([gf_pts[3,0], gf_pts[2,0]],[gf_pts[3,1],gf_pts[2,1]], 'y', label=\"_Geofence\")\n",
    "plt.plot([gf_pts[2,0], gf_pts[0,0]],[gf_pts[2,1],gf_pts[0,1]], 'y', label=\"_Geofence\")\n",
    "\n",
    "plt.plot(ps_i[:,0], ps_i[:,1], 'g.', label=\"Path Tangents\")\n",
    "\n",
    "plt.plot(c_pts[:,0], c_pts[:,1], 'gx', label=\"Corners Centers\")\n",
    "\n",
    "plt.plot(0,0,'go')\n",
    "plt.axis('equal')\n",
    "plt.legend()\n",
    "plt.grid()"
   ]
  }
 ],
 "metadata": {
  "kernelspec": {
   "display_name": "Python 3",
   "language": "python",
   "name": "python3"
  },
  "language_info": {
   "codemirror_mode": {
    "name": "ipython",
    "version": 3
   },
   "file_extension": ".py",
   "mimetype": "text/x-python",
   "name": "python",
   "nbconvert_exporter": "python",
   "pygments_lexer": "ipython3",
   "version": "3.9.0"
  },
  "vscode": {
   "interpreter": {
    "hash": "4123b181f2a2bd303452af20202f60170947dc0b244cf9ea4f433e7f6fd51858"
   }
  }
 },
 "nbformat": 4,
 "nbformat_minor": 4
}
