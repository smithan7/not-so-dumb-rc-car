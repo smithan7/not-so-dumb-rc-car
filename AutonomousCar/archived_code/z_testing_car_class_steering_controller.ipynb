{
 "cells": [
  {
   "cell_type": "code",
   "execution_count": 1,
   "metadata": {},
   "outputs": [],
   "source": [
    "import numpy  as np\n",
    "import matplotlib.pyplot as plt\n",
    "from Test_Car_2D import Test_Car_2D"
   ]
  },
  {
   "cell_type": "code",
   "execution_count": 2,
   "metadata": {},
   "outputs": [
    {
     "ename": "AttributeError",
     "evalue": "'Test_Car_2D' object has no attribute 'steering_control'",
     "output_type": "error",
     "traceback": [
      "\u001b[1;31m---------------------------------------------------------------------------\u001b[0m",
      "\u001b[1;31mAttributeError\u001b[0m                            Traceback (most recent call last)",
      "\u001b[1;32mc:\\Users\\sgtas\\AutonomousCar\\testing_car_class_steering_controller.ipynb Cell 2\u001b[0m in \u001b[0;36m<cell line: 26>\u001b[1;34m()\u001b[0m\n\u001b[0;32m     <a href='vscode-notebook-cell:/c%3A/Users/sgtas/AutonomousCar/testing_car_class_steering_controller.ipynb#W2sZmlsZQ%3D%3D?line=33'>34</a>\u001b[0m \u001b[39m# control stuff - get desired steering input and acceleration\u001b[39;00m\n\u001b[0;32m     <a href='vscode-notebook-cell:/c%3A/Users/sgtas/AutonomousCar/testing_car_class_steering_controller.ipynb#W2sZmlsZQ%3D%3D?line=34'>35</a>\u001b[0m u_accel \u001b[39m=\u001b[39m car\u001b[39m.\u001b[39mpid_speed_control(speed_desired)\n\u001b[1;32m---> <a href='vscode-notebook-cell:/c%3A/Users/sgtas/AutonomousCar/testing_car_class_steering_controller.ipynb#W2sZmlsZQ%3D%3D?line=35'>36</a>\u001b[0m u_tire_angle \u001b[39m=\u001b[39m car\u001b[39m.\u001b[39;49msteering_control(heading_desired)\n\u001b[0;32m     <a href='vscode-notebook-cell:/c%3A/Users/sgtas/AutonomousCar/testing_car_class_steering_controller.ipynb#W2sZmlsZQ%3D%3D?line=37'>38</a>\u001b[0m \u001b[39m# control data logging\u001b[39;00m\n\u001b[0;32m     <a href='vscode-notebook-cell:/c%3A/Users/sgtas/AutonomousCar/testing_car_class_steering_controller.ipynb#W2sZmlsZQ%3D%3D?line=38'>39</a>\u001b[0m u_tires\u001b[39m.\u001b[39mappend(u_tire_angle)\n",
      "\u001b[1;31mAttributeError\u001b[0m: 'Test_Car_2D' object has no attribute 'steering_control'"
     ]
    }
   ],
   "source": [
    "\"\"\"Test the car by applying some inputs\"\"\"\n",
    "car = Test_Car_2D()\n",
    "car.speed = 10.0\n",
    "speed_desired = car.speed\n",
    "dt = 0.1\n",
    "\n",
    "steering_desired = 0.0\n",
    "\n",
    "speeds = []\n",
    "times = []\n",
    "throttles = []\n",
    "brakes = []\n",
    "accels = []\n",
    "speed_errors = []\n",
    "speed_error_sums = []\n",
    "speed_error_diffs = []\n",
    "steers = []\n",
    "u_tires = []\n",
    "u_steers = []\n",
    "steer_errors = []\n",
    "steer_error_sums = []\n",
    "steer_error_diffs = []\n",
    "\n",
    "\n",
    "heading_desired = 0.0\n",
    "for i in range(1000):\n",
    "    \n",
    "    if i == 20:\n",
    "        steering_desired = 0.1\n",
    "    elif i == 60:\n",
    "        # steering_desired = float(i)/5.0\n",
    "        steering_desired = 0.0\n",
    "    \n",
    "    # control stuff - get desired steering input and acceleration\n",
    "    u_accel = car.pid_speed_control(speed_desired)\n",
    "    u_tire_angle = car.steering_control(heading_desired)\n",
    "\n",
    "    # control data logging\n",
    "    u_tires.append(u_tire_angle)\n",
    "    speed_errors.append(car.speed_pid.error)\n",
    "    speed_error_sums.append(car.speed_pid.error_sum)\n",
    "    speed_error_diffs.append(car.speed_pid.error_diff)\n",
    "\n",
    "\n",
    "    # back out what our actual controls should be from the desired action\n",
    "    [u_throttle, u_brake] = car.get_controls_from_accel(u_accel)\n",
    "    u_steer_angle = car.steering.get_steeing_wheel_from_tire_wheel(u_tire_angle)\n",
    "    \n",
    "\n",
    "    # actuator data logging\n",
    "    u_steers.append(u_steer_angle)\n",
    "    throttles.append(u_throttle)\n",
    "    brakes.append(u_brake)\n",
    "    \n",
    "    # update car motion from model\n",
    "    u_accel = car.linear_speed_dynamics([u_throttle, u_brake])\n",
    "    \n",
    "    car.steering.simple_dynamics(steering_desired, dt)\n",
    "    car.kinematic_update([u_steer, u_accel], dt)\n",
    "    \n",
    "    # data logging\n",
    "    accels.append(u_accel)\n",
    "    speeds.append(car.speed)\n",
    "    steers.append(car.x[3])\n",
    "    times.append(i*dt)\n",
    "\n",
    "plt.plot(times, steers)\n",
    "plt.grid()\n",
    "plt.xlabel(\"Time (s)\")\n",
    "plt.ylabel(\"Steering Angle (rad)\")\n",
    "plt.show()\n",
    "\n",
    "plt.plot(times, u_steers, label='U Steers')\n",
    "plt.plot(times, car.steer_pid.k_p * np.array(steer_errors), label='Error')\n",
    "plt.plot(times, car.steer_pid.k_i * np.array(steer_error_sums), label='Error Sum')\n",
    "plt.plot(times, car.steer_pid.k_d * np.array(steer_error_diffs), label='Error Diff')\n",
    "plt.grid()\n",
    "plt.xlabel(\"Time (s)\")\n",
    "plt.ylabel(\"Steer PID Vals\")\n",
    "plt.legend()\n",
    "plt.show()\n",
    "\n",
    "plt.plot(times, throttles, label='Throttles')\n",
    "plt.plot(times, brakes, label='Brakes')\n",
    "plt.grid()\n",
    "plt.xlabel(\"Time (s)\")\n",
    "plt.ylabel(\"Inputs\")\n",
    "plt.legend()\n",
    "plt.show()\n",
    "\n"
   ]
  }
 ],
 "metadata": {
  "kernelspec": {
   "display_name": "Python 3",
   "language": "python",
   "name": "python3"
  },
  "language_info": {
   "codemirror_mode": {
    "name": "ipython",
    "version": 3
   },
   "file_extension": ".py",
   "mimetype": "text/x-python",
   "name": "python",
   "nbconvert_exporter": "python",
   "pygments_lexer": "ipython3",
   "version": "3.9.0"
  },
  "orig_nbformat": 4,
  "vscode": {
   "interpreter": {
    "hash": "4123b181f2a2bd303452af20202f60170947dc0b244cf9ea4f433e7f6fd51858"
   }
  }
 },
 "nbformat": 4,
 "nbformat_minor": 2
}
